{
 "cells": [
  {
   "cell_type": "markdown",
   "metadata": {},
   "source": [
    "#### <b>Логический тип данных и логические связки"
   ]
  },
  {
   "cell_type": "code",
   "execution_count": null,
   "metadata": {
    "ExecuteTime": {
     "end_time": "2022-10-07T14:20:43.591878Z",
     "start_time": "2022-10-07T14:20:43.591878Z"
    }
   },
   "outputs": [],
   "source": [
    "x = int(input('Введите число'))\n",
    "res = x < 5\n",
    "print(res)"
   ]
  },
  {
   "cell_type": "code",
   "execution_count": 4,
   "metadata": {},
   "outputs": [
    {
     "name": "stdout",
     "output_type": "stream",
     "text": [
      "False\n"
     ]
    }
   ],
   "source": [
    "# четное / нечетное\n",
    "x = int(input())\n",
    "isEven = x % 2 == 0\n",
    "print(isEven)"
   ]
  },
  {
   "cell_type": "code",
   "execution_count": 6,
   "metadata": {},
   "outputs": [
    {
     "name": "stdout",
     "output_type": "stream",
     "text": [
      "True\n"
     ]
    }
   ],
   "source": [
    "x = int(input())\n",
    "isEven = x % 2 == 0 and x >= 10 # четное / нечетное и x > 10\n",
    "print(isEven)"
   ]
  },
  {
   "cell_type": "code",
   "execution_count": 7,
   "metadata": {},
   "outputs": [
    {
     "name": "stdout",
     "output_type": "stream",
     "text": [
      "True True False True\n"
     ]
    }
   ],
   "source": [
    "x = int(input())\n",
    "flag = 3 <= x <= 10 # x в промежутке между 3 и 10\n",
    "flag2 = flag or x % 7 == 3 # истина , если истина flag  или если x делится на 7 с остатком 3\n",
    "flag3 = not flag # отрицание\n",
    "flag4 = not 0 or x % 7 == 0 and x >= 10 <= 20\n",
    "print(flag, flag2, flag3, flag4)"
   ]
  },
  {
   "cell_type": "markdown",
   "metadata": {},
   "source": [
    "#### Задачи"
   ]
  },
  {
   "cell_type": "markdown",
   "metadata": {},
   "source": [
    "<p> Вася уехал учиться по обмену на один семестр в Италию. Единственный магазин в городе открыт с 6 до 8 утра и с 16 до 17 вечера (включительно). \n",
    "<p>Вася не мог попасть в магазин уже несколько дней и страдает от голода. Он может прийти в магазин в X часов. Если магазин открыт в X часов, то выведите True, а если закрыт - выведите False.\n",
    "<p>В единственной строке входных данных вводится целое число X, число находится в пределах от 0 до 23.\n"
   ]
  },
  {
   "cell_type": "code",
   "execution_count": 9,
   "metadata": {},
   "outputs": [
    {
     "name": "stdout",
     "output_type": "stream",
     "text": [
      "False\n"
     ]
    }
   ],
   "source": [
    "x = int(input())\n",
    "openShop = 6 <= x <= 8 or 16 <= x <= 17\n",
    "print(openShop)"
   ]
  },
  {
   "cell_type": "markdown",
   "metadata": {},
   "source": [
    "<p> Вася не смог попасть в магазин в Италии. Несмотря на удачно подобранное время посещения магазина в этот день в городе праздновался день броколетти (цветной капусты)\n",
    " и магазин был закрыт по случаю праздника. Зато Вася смог купить билет до Испании за сущие копейки.\n",
    " <p> В Испании есть магазин, который открыт с A до B часов включительно. Испания - жаркая страна,\n",
    " поэтому с C до D часов включительно наступает сиеста, когда все заведения, включая магазин, закрыты.\n",
    " <p> При этом A < B, C < D. Обратите внимание, что время сиесты не обязательно полностью содержится в интервале работы магазина. Вася может прийти в испанский магазин в X часов. Выведите True если магазин открыт в это время и False, если он закрыт.\n",
    "<p>Числа A, B, C, D, X вводятся по одному в строке и находятся в пределах от 0 до 23."
   ]
  },
  {
   "cell_type": "code",
   "execution_count": 10,
   "metadata": {},
   "outputs": [
    {
     "name": "stdout",
     "output_type": "stream",
     "text": [
      "True\n"
     ]
    }
   ],
   "source": [
    "A = int(input())\n",
    "B = int(input())\n",
    "C = int(input())\n",
    "D = int(input())\n",
    "X = int(input())\n",
    "\n",
    "shopTime = A <= X <= B and not C <= X <= D\n",
    "print(shopTime)"
   ]
  },
  {
   "cell_type": "markdown",
   "metadata": {},
   "source": [
    "#### <b> Преобразование логических типов"
   ]
  },
  {
   "cell_type": "code",
   "execution_count": 11,
   "metadata": {},
   "outputs": [
    {
     "name": "stdout",
     "output_type": "stream",
     "text": [
      "True\n"
     ]
    }
   ],
   "source": [
    "x = int(input())\n",
    "flag1 = x != 0 and 10 % x == 0\n",
    "print(flag1)"
   ]
  },
  {
   "cell_type": "code",
   "execution_count": 12,
   "metadata": {},
   "outputs": [
    {
     "name": "stdout",
     "output_type": "stream",
     "text": [
      "0 1\n",
      "False True\n"
     ]
    }
   ],
   "source": [
    "flag = 5 < 3\n",
    "print(int(flag), int(not flag)) # для целого\n",
    "print(str(flag), str(not flag)) # для строки"
   ]
  },
  {
   "cell_type": "code",
   "execution_count": 13,
   "metadata": {},
   "outputs": [
    {
     "name": "stdout",
     "output_type": "stream",
     "text": [
      "True\n",
      "False\n",
      "True\n",
      "False\n"
     ]
    }
   ],
   "source": [
    "print(bool(10)) # true\n",
    "print(bool(0)) # false\n",
    "print(bool('Test')) # true\n",
    "print(bool('')) # false"
   ]
  },
  {
   "cell_type": "code",
   "execution_count": 15,
   "metadata": {},
   "outputs": [
    {
     "name": "stdout",
     "output_type": "stream",
     "text": [
      "True\n"
     ]
    }
   ],
   "source": [
    "s1 = int(input())\n",
    "f1 = int(input())\n",
    "s2 = int(input())\n",
    "f2 = int(input())\n",
    "print(s1 <= f2 and s2 <= f1)"
   ]
  },
  {
   "cell_type": "markdown",
   "metadata": {},
   "source": [
    "#### Задачи"
   ]
  },
  {
   "cell_type": "markdown",
   "metadata": {},
   "source": [
    "<p>Вася закупился продуктами в Испании и ему больше не грозит голодная смерть. Однако, он потратил все деньги и был вынужден\n",
    "устроиться на работу свинопасом в Доломитовых Альпах с графиком сутки через двое.\n",
    " <p>Вася работает начиная с первого дня (т.е. работает в день 1, отдыхает в дни 2 и 3, работает в день 4, отдыхает в дни 5 и 6 и т.д.).\n",
    "<p>Выведите True, если в день X Вася должен работать и False в противном случае.\n",
    "<p>В единственной строке входных данных вводится целое положительное число X. Оно может быть сколь угодно большим.\n",
    "<p>Подсказка: Внимательно изучите остаток от деления номера дня на период работы Васи."
   ]
  },
  {
   "cell_type": "code",
   "execution_count": 16,
   "metadata": {},
   "outputs": [
    {
     "name": "stdout",
     "output_type": "stream",
     "text": [
      "False\n"
     ]
    }
   ],
   "source": [
    "X = int(input())\n",
    "workDay = X % 3 == 1\n",
    "print(workDay)"
   ]
  },
  {
   "cell_type": "markdown",
   "metadata": {},
   "source": [
    "<p> На узких улицах Турина Вася увидел автомобиль Lacia Ypsilon 1997 года выпуска и был поражен его красотой.\n",
    "Чтобы заработать денег на этот автомобиль он взял себе еще одну подработку: пасти гусей сутки через трое.\n",
    "<p> Таким образом, начиная с первого дня Вася пасет свиней с графиком сутки через двое (т.е. в дни 1, 4, 7 и т.д.),а также с первого дня пасет гусей с графиком сутки через трое (т.е. в дни 1, 5, 9 и т.д.).\n",
    "<p> Выведите True, если в\n",
    " день X Вася пасет свиней и гусей одновременно и False в противном случае.\n",
    "<p> В единственной строке входных данных вводится целое положительное число X, которое может быть сколь угодно большим.\n"
   ]
  },
  {
   "cell_type": "code",
   "execution_count": 17,
   "metadata": {},
   "outputs": [
    {
     "name": "stdout",
     "output_type": "stream",
     "text": [
      "False\n"
     ]
    }
   ],
   "source": [
    "X = int(input())\n",
    "workDay = X % 3 == 1\n",
    "workDay2 = X % 4 == 1\n",
    "resWork = (workDay + workDay2) == 2\n",
    "print(resWork)"
   ]
  }
 ],
 "metadata": {
  "kernelspec": {
   "display_name": "Python 3 (ipykernel)",
   "language": "python",
   "name": "python3"
  },
  "language_info": {
   "codemirror_mode": {
    "name": "ipython",
    "version": 3
   },
   "file_extension": ".py",
   "mimetype": "text/x-python",
   "name": "python",
   "nbconvert_exporter": "python",
   "pygments_lexer": "ipython3",
   "version": "3.8.10"
  },
  "vscode": {
   "interpreter": {
    "hash": "f261677587ca9d1e93913c2612990dd71fd64ba39d3a6afdcfdb67deedf1e462"
   }
  }
 },
 "nbformat": 4,
 "nbformat_minor": 2
}
