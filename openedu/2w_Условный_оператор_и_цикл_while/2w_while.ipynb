{
 "cells": [
  {
   "cell_type": "markdown",
   "id": "3b9e5d7f",
   "metadata": {},
   "source": [
    "###  1. Оператор цикла while"
   ]
  },
  {
   "cell_type": "code",
   "execution_count": null,
   "id": "c7512dd1",
   "metadata": {},
   "outputs": [],
   "source": [
    "# склеить 2 JN\n",
    "# !nbmerge OpenEdu/2w_Условный_оператор_и_цикл_while/file1.ipynb OpenEdu/2w_Условный_оператор_и_цикл_while/file2.ipynb -o OpenEdu/2w_Условный_оператор_и_цикл_while/merged.ipynb"
   ]
  },
  {
   "cell_type": "code",
   "execution_count": 14,
   "id": "9ef8075c",
   "metadata": {
    "ExecuteTime": {
     "end_time": "2022-10-07T14:41:26.700164Z",
     "start_time": "2022-10-07T14:41:25.689163Z"
    }
   },
   "outputs": [
    {
     "name": "stdout",
     "output_type": "stream",
     "text": [
      "1\n",
      "2\n",
      "3\n",
      "4\n",
      "5\n",
      "6\n",
      "7\n",
      "8\n",
      "9\n",
      "10\n",
      "end\n"
     ]
    }
   ],
   "source": [
    "import time\n",
    "cnt = 1\n",
    "while cnt <= 10:\n",
    "    print(cnt)\n",
    "    cnt = cnt + 1\n",
    "    time.sleep(0.1)\n",
    "print('end')"
   ]
  },
  {
   "cell_type": "code",
   "execution_count": 18,
   "id": "61fab4c6",
   "metadata": {
    "ExecuteTime": {
     "end_time": "2022-10-07T14:42:37.934279Z",
     "start_time": "2022-10-07T14:42:36.422275Z"
    }
   },
   "outputs": [
    {
     "name": "stdout",
     "output_type": "stream",
     "text": [
      "3\n",
      "6\n",
      "9\n",
      "12\n",
      "15\n",
      "18\n",
      "21\n",
      "24\n",
      "27\n",
      "30\n",
      "end\n"
     ]
    }
   ],
   "source": [
    "#если cnt делится на 3\n",
    "import time\n",
    "cnt = 1\n",
    "while cnt <= 30:\n",
    "    if cnt %3 == 0:\n",
    "        print(cnt)\n",
    "    cnt = cnt + 1\n",
    "    time.sleep(0.05)\n",
    "print('end')"
   ]
  },
  {
   "cell_type": "code",
   "execution_count": 19,
   "id": "94047a55",
   "metadata": {
    "ExecuteTime": {
     "end_time": "2022-10-07T14:53:23.528207Z",
     "start_time": "2022-10-07T14:53:15.265194Z"
    }
   },
   "outputs": [
    {
     "name": "stdout",
     "output_type": "stream",
     "text": [
      "Введите число: 10\n",
      "Введите число: 30\n",
      "Введите число: 100\n",
      "Введите число: 500\n",
      "Введите число: 0\n",
      "640\n"
     ]
    }
   ],
   "source": [
    "# вывести сумму введеных чисел, при введении 0\n",
    "sumseq = 0\n",
    "now = int(input('Введите число: '))\n",
    "while now != 0:\n",
    "    sumseq += now # sumseq = sumseq + now\n",
    "    now = int(input('Введите число: '))\n",
    "print(sumseq)"
   ]
  },
  {
   "cell_type": "markdown",
   "id": "4e5886ca",
   "metadata": {},
   "source": [
    "### `Задачи`"
   ]
  },
  {
   "cell_type": "code",
   "execution_count": 7,
   "id": "550b1957",
   "metadata": {},
   "outputs": [
    {
     "name": "stdout",
     "output_type": "stream",
     "text": [
      "Введите число: 400\n",
      "1 2 4 8 16 32 64 128 256 "
     ]
    }
   ],
   "source": [
    "# По данному числу N распечатайте все целые степени двойки, не превосходящие N, в порядке возрастания. \n",
    "# Если число N является степенью двойки, то его также необходимо вывести.\n",
    "\n",
    "n = int(input(\"Введите число: \"))\n",
    "m = 1\n",
    "while m <= n:\n",
    "    print(m, end=' ')\n",
    "    m = m * 2"
   ]
  },
  {
   "cell_type": "code",
   "execution_count": 10,
   "id": "c4148703",
   "metadata": {},
   "outputs": [
    {
     "name": "stdout",
     "output_type": "stream",
     "text": [
      "12\n",
      "1\n",
      "4\n",
      "9\n"
     ]
    }
   ],
   "source": [
    "# По данному целому числу N распечатайте все квадраты натуральных (целых, положительных) чисел, \n",
    "#  не превосходящие N, в порядке возрастания. \n",
    "# Обратите внимание, что если N является полным квадратом, то его тоже нужно печатать.\n",
    "\n",
    "a=int(input())\n",
    "s=1\n",
    "while s**2<=a:\n",
    "    print(s**2)\n",
    "    s+=1"
   ]
  },
  {
   "cell_type": "markdown",
   "id": "8ecb90b7",
   "metadata": {
    "ExecuteTime": {
     "end_time": "2022-10-08T14:43:51.745550Z",
     "start_time": "2022-10-08T14:43:51.695550Z"
    }
   },
   "source": [
    "### `2. Линейный поиск`"
   ]
  },
  {
   "cell_type": "code",
   "execution_count": 7,
   "id": "7edcf91c",
   "metadata": {},
   "outputs": [
    {
     "name": "stdout",
     "output_type": "stream",
     "text": [
      "56\n",
      "87\n",
      "50\n",
      "50\n",
      "8\n",
      "8\n",
      "100\n",
      "0\n",
      "8\n"
     ]
    }
   ],
   "source": [
    "# Найти минимальное число из введенных\n",
    "\n",
    "now = int(input())\n",
    "minNum = now\n",
    "while now != 0:\n",
    "    if now < minNum:\n",
    "        minNum = now\n",
    "    now = int(input())\n",
    "print(minNum)"
   ]
  },
  {
   "cell_type": "code",
   "execution_count": 8,
   "id": "dd1ff6b8",
   "metadata": {},
   "outputs": [
    {
     "name": "stdout",
     "output_type": "stream",
     "text": [
      "10\n",
      "1\n",
      "1\n",
      "10\n",
      "0\n",
      "1 2\n"
     ]
    }
   ],
   "source": [
    "# Найти число засушливых годов.\n",
    "\n",
    "now = int(input())\n",
    "minNum = now\n",
    "cntMin = 1\n",
    "while now != 0:\n",
    "    if now < minNum:\n",
    "        minNum = now\n",
    "        cntMin = 1\n",
    "    elif now == minNum:\n",
    "        cntMin+=1\n",
    "    now = int(input())\n",
    "print(minNum, cntMin)"
   ]
  },
  {
   "cell_type": "markdown",
   "id": "6b8b15e1",
   "metadata": {},
   "source": [
    "### `Задача`\n",
    "\n",
    "Последовательность состоит из натуральных чисел, не превосходящих 109, и завершается числом 0. <br> Определите значение наибольшего элемента последовательности."
   ]
  },
  {
   "cell_type": "code",
   "execution_count": 11,
   "id": "066e346c",
   "metadata": {},
   "outputs": [
    {
     "name": "stdout",
     "output_type": "stream",
     "text": [
      "15\n",
      "5\n",
      "78\n",
      "45\n",
      "4\n",
      "98\n",
      "0\n",
      "98\n"
     ]
    }
   ],
   "source": [
    "now = int(input())\n",
    "maxNum = now\n",
    "while now != 0:\n",
    "    if now > maxNum:\n",
    "        maxNum = now\n",
    "    now = int(input())\n",
    "print(maxNum)"
   ]
  },
  {
   "cell_type": "markdown",
   "id": "7ca2200d",
   "metadata": {},
   "source": [
    "### `Задача`\n",
    "Последовательность состоит из натуральных чисел и завершается числом 0. <br> Определите, сколько элементов этой последовательности больше предыдущего элемента."
   ]
  },
  {
   "cell_type": "code",
   "execution_count": 12,
   "id": "15bbbccb",
   "metadata": {},
   "outputs": [
    {
     "name": "stdout",
     "output_type": "stream",
     "text": [
      "5\n",
      "6\n",
      "8\n",
      "10\n",
      "3\n",
      "2\n",
      "0\n",
      "3\n"
     ]
    }
   ],
   "source": [
    "prev = int(input())\n",
    "answer = 0\n",
    "while prev != 0:\n",
    "    next = int(input())\n",
    "    if next != 0 and prev < next:\n",
    "        answer += 1\n",
    "    prev = next\n",
    "print(answer)"
   ]
  },
  {
   "cell_type": "markdown",
   "id": "c2e6933e",
   "metadata": {},
   "source": [
    "### `Задача`\n",
    "Последовательность состоит из натуральных чисел и завершается числом 0. <br>Определите, какое количество элементов этой последовательности, равны ее наибольшему элементу."
   ]
  },
  {
   "cell_type": "code",
   "execution_count": 16,
   "id": "271c9e1a",
   "metadata": {},
   "outputs": [
    {
     "name": "stdout",
     "output_type": "stream",
     "text": [
      "100\n",
      "5\n",
      "100\n",
      "6\n",
      "100\n",
      "6\n",
      "0\n",
      "100 3\n"
     ]
    }
   ],
   "source": [
    "now = int(input())\n",
    "maxNum = now\n",
    "cntMax = 0\n",
    "while now != 0:\n",
    "    if now > maxNum:\n",
    "        maxNum = now\n",
    "        cntMax = 1\n",
    "    elif now == maxNum:\n",
    "        cntMax+=1\n",
    "    now = int(input())\n",
    "print(maxNum, cntMax)"
   ]
  },
  {
   "cell_type": "markdown",
   "id": "4b598c9f",
   "metadata": {},
   "source": [
    "### `3. Вложенные циклы, операторы break и continue`"
   ]
  },
  {
   "cell_type": "code",
   "execution_count": 20,
   "id": "623fbd13",
   "metadata": {
    "ExecuteTime": {
     "end_time": "2022-10-08T15:19:21.357670Z",
     "start_time": "2022-10-08T15:19:15.376662Z"
    }
   },
   "outputs": [
    {
     "name": "stdout",
     "output_type": "stream",
     "text": [
      "10\n",
      "20\n",
      "30\n",
      "-5\n",
      "60\n"
     ]
    }
   ],
   "source": [
    "# сложить число с предыдущим, при введении отрицательного числа  - остановить цикл. \n",
    "sumSeq = 0\n",
    "now = int(input())\n",
    "if now < 0:\n",
    "    print('dbz')\n",
    "elif now >= 0:\n",
    "    while now != 0:\n",
    "        sumSeq += now\n",
    "        now = int(input())\n",
    "        if now < 0:\n",
    "            break\n",
    "    print(sumSeq)"
   ]
  },
  {
   "cell_type": "code",
   "execution_count": 13,
   "id": "f54ceba3",
   "metadata": {
    "ExecuteTime": {
     "end_time": "2022-10-09T07:11:28.982093Z",
     "start_time": "2022-10-09T07:11:23.438083Z"
    }
   },
   "outputs": [
    {
     "name": "stdout",
     "output_type": "stream",
     "text": [
      "1 2 3 4 5 6 7 8 9 10 \n",
      "2 4 6 8 10 12 14 16 18 20 \n",
      "3 6 9 12 15 18 21 24 27 30 \n",
      "4 8 12 16 20 24 28 32 36 40 \n",
      "5 10 15 20 25 30 35 40 45 50 \n",
      "6 12 18 24 30 36 42 48 54 60 \n",
      "7 14 21 28 35 42 49 56 63 70 \n",
      "8 16 24 32 40 48 56 64 72 80 \n",
      "9 18 27 36 45 54 63 72 81 90 \n",
      "10 20 30 40 50 60 70 80 90 100 \n"
     ]
    }
   ],
   "source": [
    "# таблица умножения\n",
    "import time\n",
    "i = 1\n",
    "j = 1\n",
    "while i <= 10: # i от 1 до 10\n",
    "    j = 1 # возвращаем j в исходное значение   \n",
    "    while j <= 10: # на каждую i перебор j от 1 до 10\n",
    "        print(i * j, end = ' ') # умножаем и выводим с пробелом\n",
    "        time.sleep(0.05)\n",
    "        j+=1\n",
    "    print()\n",
    "    i+=1\n",
    "    time.sleep(0.05)\n",
    "        "
   ]
  },
  {
   "cell_type": "code",
   "execution_count": 14,
   "id": "01a20d6f",
   "metadata": {
    "ExecuteTime": {
     "end_time": "2022-10-09T07:18:18.692893Z",
     "start_time": "2022-10-09T07:18:15.008885Z"
    }
   },
   "outputs": [
    {
     "name": "stdout",
     "output_type": "stream",
     "text": [
      "1 2 3 4 5 6 7 8 9 10 \n",
      "2 4 6 8 10 12 14 16 18 20 \n",
      "3 6 9 12 15 18 21 24 27 30 \n",
      "4 8 12 16 20 24 28 32 36 40 \n",
      "5 10 15 20 25 30 35 40 45 50 \n",
      "6 12 18 24 30 36 42 48 54 60 \n",
      "7 14 21 28 35 42 49 56 "
     ]
    }
   ],
   "source": [
    "# таблица умножения, остановить вычисления при произведении 56\n",
    "import time\n",
    "i = 1\n",
    "j = 1\n",
    "flag = False\n",
    "while i <= 10: # i от 1 до 10\n",
    "    j = 1 # возвращаем j в исходное значение   \n",
    "    while j <= 10: # на каждую i перебор j от 1 до 10\n",
    "        print(i * j, end = ' ') # умножаем и выводим с пробелом\n",
    "        if i * j ==56:\n",
    "            flag = True\n",
    "            break\n",
    "        time.sleep(0.05)\n",
    "        j+=1\n",
    "    if flag:\n",
    "        break\n",
    "    print()\n",
    "    i+=1\n",
    "    time.sleep(0.05)\n",
    "        "
   ]
  },
  {
   "cell_type": "code",
   "execution_count": 16,
   "id": "db89f8ff",
   "metadata": {
    "ExecuteTime": {
     "end_time": "2022-10-09T08:31:30.214569Z",
     "start_time": "2022-10-09T08:31:30.194569Z"
    }
   },
   "outputs": [
    {
     "name": "stdout",
     "output_type": "stream",
     "text": [
      "2 4 6 8 10 12 14 16 18 20 22 24 26 28 30 32 34 36 38 40 42 44 46 48 50 52 54 56 58 60 62 64 66 68 70 72 74 76 78 80 82 84 86 88 90 92 94 96 98 100 "
     ]
    }
   ],
   "source": [
    "# вывести числа которые кратны 2\n",
    "\n",
    "i = 0\n",
    "while i <= 100:\n",
    "    i += 1\n",
    "    if i % 2 != 0:\n",
    "        continue # если условие верное, вернуться в while\n",
    "    print(i, end=' ')"
   ]
  },
  {
   "cell_type": "code",
   "execution_count": 23,
   "id": "4b6c1ea6",
   "metadata": {
    "ExecuteTime": {
     "end_time": "2022-10-09T08:36:30.624052Z",
     "start_time": "2022-10-09T08:36:30.604052Z"
    }
   },
   "outputs": [
    {
     "name": "stdout",
     "output_type": "stream",
     "text": [
      "2 4 6 8 10 12 14 16 18 20 22 24 26 28 30 32 34 36 38 40 42 44 46 48 50 52 54 56 58 60 62 64 66 68 70 72 74 76 78 80 82 84 86 88 90 92 94 96 98 100 \n",
      "1 3 5 7 9 11 13 15 17 19 21 23 25 27 29 31 33 35 37 39 41 43 45 47 49 51 53 55 57 59 61 63 65 67 69 71 73 75 77 79 81 83 85 87 89 91 93 95 97 99 101 "
     ]
    }
   ],
   "source": [
    "# вывести числа которые кратны 2 (без continue)\n",
    "\n",
    "i = 0\n",
    "while i <= 100:\n",
    "    i += 1\n",
    "    if i % 2 == 0:\n",
    "        print(i, end=' ')\n",
    "    if i == 100:\n",
    "        print()\n",
    "i = 0\n",
    "while i <= 100:\n",
    "    i += 1   \n",
    "    if i % 2 != 0:\n",
    "        print(i, end=' ')"
   ]
  },
  {
   "cell_type": "code",
   "execution_count": 63,
   "id": "4cc023ce",
   "metadata": {
    "ExecuteTime": {
     "end_time": "2022-10-09T16:04:09.810356Z",
     "start_time": "2022-10-09T16:04:06.676345Z"
    }
   },
   "outputs": [
    {
     "name": "stdout",
     "output_type": "stream",
     "text": [
      "Введите число: 0\n",
      "\n",
      "Сработал else, цикл while завершен нормально\n"
     ]
    }
   ],
   "source": [
    "i = 0\n",
    "numEnd = int(input('Введите число: '))\n",
    "while i <= numEnd:\n",
    "    i+=1\n",
    "    if i % 3 == 0: \n",
    "        print(i, end= ' ')\n",
    "    if i == 98:\n",
    "        print('\\nbreak')\n",
    "        break # если while прервался continue, else не сработает.\n",
    "        \n",
    "else:\n",
    "    print('\\nСработал else, цикл while завершен нормально')"
   ]
  },
  {
   "cell_type": "markdown",
   "id": "7c05443d",
   "metadata": {},
   "source": [
    "### `Задача`\n",
    "Дано несколько чисел. Подсчитайте, сколько из них равны нулю, и выведите это количество.\n",
    "<br> Формат ввода:\n",
    "\n",
    "<DD>Cначала вводится число N, затем вводится ровно N целых чисел."
   ]
  },
  {
   "cell_type": "code",
   "execution_count": 56,
   "id": "b0772b33",
   "metadata": {
    "ExecuteTime": {
     "end_time": "2022-10-09T10:10:46.293921Z",
     "start_time": "2022-10-09T10:10:37.127904Z"
    },
    "scrolled": true
   },
   "outputs": [
    {
     "name": "stdout",
     "output_type": "stream",
     "text": [
      "5\n",
      "0\n",
      "5\n",
      "0\n",
      "4\n",
      "1\n",
      "2\n"
     ]
    }
   ],
   "source": [
    "qantDig = int(input())\n",
    "seq = 0\n",
    "i = 1\n",
    "while i <= qantDig:\n",
    "    i += 1\n",
    "    num = int(input())\n",
    "    if num == 0:\n",
    "        seq += 1\n",
    "print(seq)"
   ]
  },
  {
   "cell_type": "markdown",
   "id": "0c9a574e",
   "metadata": {},
   "source": [
    "### `Задача`\n",
    "По данному натуральному n≤9 выведите лесенку из n ступенек, i-я ступенька состоит из чисел от 1 до i без пробелов.\n",
    "Формат ввода\n",
    "\n",
    "<br>Вводится натуральное число."
   ]
  },
  {
   "cell_type": "code",
   "execution_count": 57,
   "id": "bd93a0ce",
   "metadata": {
    "ExecuteTime": {
     "end_time": "2022-10-09T15:46:30.447612Z",
     "start_time": "2022-10-09T15:46:27.283601Z"
    }
   },
   "outputs": [
    {
     "name": "stdout",
     "output_type": "stream",
     "text": [
      "10\n",
      "1\n",
      "12\n",
      "123\n",
      "1234\n",
      "12345\n",
      "123456\n",
      "1234567\n",
      "12345678\n",
      "123456789\n",
      "12345678910\n"
     ]
    }
   ],
   "source": [
    "# через for\n",
    "n = int(input())\n",
    "x = \"\"\n",
    "for i in range(1, n + 1):\n",
    "    x = x + str(i)\n",
    "    print(x)"
   ]
  },
  {
   "cell_type": "code",
   "execution_count": 62,
   "id": "72b97ee3",
   "metadata": {
    "ExecuteTime": {
     "end_time": "2022-10-09T15:54:13.103439Z",
     "start_time": "2022-10-09T15:54:12.131435Z"
    }
   },
   "outputs": [
    {
     "name": "stdout",
     "output_type": "stream",
     "text": [
      "10\n",
      "1\n",
      "12\n",
      "123\n",
      "1234\n",
      "12345\n",
      "123456\n",
      "1234567\n",
      "12345678\n",
      "123456789\n",
      "12345678910\n"
     ]
    }
   ],
   "source": [
    "# через while\n",
    "numSeq = int(input())\n",
    "resStr=''\n",
    "i=0\n",
    "while i < numSeq:\n",
    "    i += 1\n",
    "    resStr = resStr + str(i)\n",
    "    print(resStr)"
   ]
  },
  {
   "cell_type": "markdown",
   "id": "5755ffbb",
   "metadata": {},
   "source": [
    "### `Задача`\n",
    "Даны два целых числа A и B (при этом A≤B). Выведите все числа от A до B включительно.\n",
    "Формат ввода\n",
    "\n",
    "<br>Вводятся два целых числа."
   ]
  },
  {
   "cell_type": "code",
   "execution_count": 81,
   "id": "46cba937",
   "metadata": {
    "ExecuteTime": {
     "end_time": "2022-10-09T16:17:43.114038Z",
     "start_time": "2022-10-09T16:17:39.899030Z"
    }
   },
   "outputs": [
    {
     "name": "stdout",
     "output_type": "stream",
     "text": [
      "1\n",
      "10\n",
      "1 2 3 4 5 6 7 8 9 10 "
     ]
    }
   ],
   "source": [
    "#на for\n",
    "a = int(input())\n",
    "b = int(input())\n",
    "for i in range(a, b+1):\n",
    "    print(i, end=' ')"
   ]
  },
  {
   "cell_type": "code",
   "execution_count": 82,
   "id": "edcba745",
   "metadata": {
    "ExecuteTime": {
     "end_time": "2022-10-09T16:17:49.478050Z",
     "start_time": "2022-10-09T16:17:47.526045Z"
    }
   },
   "outputs": [
    {
     "name": "stdout",
     "output_type": "stream",
     "text": [
      "1\n",
      "10\n",
      "1 2 3 4 5 6 7 8 9 10 "
     ]
    }
   ],
   "source": [
    "# на while\n",
    "numA = int(input())\n",
    "numB = int(input())\n",
    "i=numA-1\n",
    "while i < numB:\n",
    "    i += 1\n",
    "    print(i, end=' ')"
   ]
  }
 ],
 "metadata": {
  "kernelspec": {
   "display_name": "Python 3 (ipykernel)",
   "language": "python",
   "name": "python3"
  },
  "language_info": {
   "codemirror_mode": {
    "name": "ipython",
    "version": 3
   },
   "file_extension": ".py",
   "mimetype": "text/x-python",
   "name": "python",
   "nbconvert_exporter": "python",
   "pygments_lexer": "ipython3",
   "version": "3.8.10"
  }
 },
 "nbformat": 4,
 "nbformat_minor": 5
}
