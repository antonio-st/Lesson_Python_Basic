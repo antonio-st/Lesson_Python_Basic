{
 "cells": [
  {
   "cell_type": "markdown",
   "id": "a3f96efb",
   "metadata": {},
   "source": [
    "### `Цикл for, списки и функции`"
   ]
  },
  {
   "cell_type": "markdown",
   "id": "098b1672",
   "metadata": {},
   "source": [
    "### Кортежи"
   ]
  },
  {
   "cell_type": "code",
   "execution_count": 5,
   "id": "1bb70707",
   "metadata": {
    "ExecuteTime": {
     "end_time": "2022-10-15T13:44:49.283043Z",
     "start_time": "2022-10-15T13:44:49.276043Z"
    }
   },
   "outputs": [
    {
     "name": "stdout",
     "output_type": "stream",
     "text": [
      "Суммируем кортеж: (1, 2, 3, 4, 5, 6, 'X', 'y', 8)\n",
      "Срез кортежа, вывод с 1го элемента: (5, 6)\n"
     ]
    }
   ],
   "source": [
    "a = (1, 2, 3)\n",
    "b = (4, 5, 6)\n",
    "c = ('X', 'y', 8)\n",
    "print('Суммируем кортеж:', a + b + c)\n",
    "print('Срез кортежа, вывод с 1го элемента:', b[1:])\n"
   ]
  },
  {
   "cell_type": "code",
   "execution_count": 6,
   "id": "a4c10df2",
   "metadata": {
    "ExecuteTime": {
     "end_time": "2022-10-15T13:48:14.208765Z",
     "start_time": "2022-10-15T13:48:14.202764Z"
    }
   },
   "outputs": [
    {
     "name": "stdout",
     "output_type": "stream",
     "text": [
      "2\n"
     ]
    }
   ],
   "source": [
    "a = ((1,2), 3.5, 'abcd') # кортеж в кортеже\n",
    "print(a[0][1]) # вывести 0 элемент 1 кортежа и 1 элемент 2 го кортежа"
   ]
  },
  {
   "cell_type": "code",
   "execution_count": 7,
   "id": "176cf43a",
   "metadata": {
    "ExecuteTime": {
     "end_time": "2022-10-15T14:19:00.911390Z",
     "start_time": "2022-10-15T14:19:00.902389Z"
    }
   },
   "outputs": [
    {
     "name": "stdout",
     "output_type": "stream",
     "text": [
      "Длина кортежа: 3\n"
     ]
    }
   ],
   "source": [
    "a = ((1,2), 3.5, 'abcd')\n",
    "print('Длина кортежа:', len(a))"
   ]
  },
  {
   "cell_type": "code",
   "execution_count": 11,
   "id": "99a46fd7",
   "metadata": {
    "ExecuteTime": {
     "end_time": "2022-10-15T14:25:56.566164Z",
     "start_time": "2022-10-15T14:25:56.555163Z"
    }
   },
   "outputs": [
    {
     "name": "stdout",
     "output_type": "stream",
     "text": [
      "сборка или оборачивание в кортеж: (1, 2, 'test')\n",
      "Распаковка из кортежа в переменные: 1 2 test\n"
     ]
    }
   ],
   "source": [
    "# сборка или оборачивание в кортеж\n",
    "a = 1\n",
    "b = 2\n",
    "c = 'test'\n",
    "myTuple  = a, b, c # или myTuple  = (a, b, c)\n",
    "d, e, f = myTuple\n",
    "print('сборка или оборачивание в кортеж:', myTuple)\n",
    "print('Распаковка из кортежа в переменные:', d, e, f)"
   ]
  },
  {
   "cell_type": "code",
   "execution_count": 14,
   "id": "bbc6fbf8",
   "metadata": {
    "ExecuteTime": {
     "end_time": "2022-10-15T14:29:21.117864Z",
     "start_time": "2022-10-15T14:29:21.105863Z"
    }
   },
   "outputs": [
    {
     "name": "stdout",
     "output_type": "stream",
     "text": [
      "1 2\n",
      "2 1\n"
     ]
    }
   ],
   "source": [
    "# поменять переменные местами\n",
    "a = 1\n",
    "b = 2\n",
    "print(a, b)\n",
    "a, b = b, a # или (a, b) = (b, a)\n",
    "print(a, b)\n"
   ]
  }
 ],
 "metadata": {
  "kernelspec": {
   "display_name": "Python 3 (ipykernel)",
   "language": "python",
   "name": "python3"
  },
  "language_info": {
   "codemirror_mode": {
    "name": "ipython",
    "version": 3
   },
   "file_extension": ".py",
   "mimetype": "text/x-python",
   "name": "python",
   "nbconvert_exporter": "python",
   "pygments_lexer": "ipython3",
   "version": "3.8.10"
  }
 },
 "nbformat": 4,
 "nbformat_minor": 5
}
