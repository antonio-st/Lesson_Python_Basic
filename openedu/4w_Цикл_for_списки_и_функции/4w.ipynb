{
 "cells": [
  {
   "cell_type": "markdown",
   "id": "da2bade7",
   "metadata": {},
   "source": [
    "### `Цикл for, списки и функции`"
   ]
  },
  {
   "cell_type": "markdown",
   "id": "d16a6ccc",
   "metadata": {},
   "source": [
    "# Кортежи"
   ]
  },
  {
   "cell_type": "code",
   "execution_count": 5,
   "id": "b51c0b9e",
   "metadata": {
    "ExecuteTime": {
     "end_time": "2022-10-15T13:44:49.283043Z",
     "start_time": "2022-10-15T13:44:49.276043Z"
    }
   },
   "outputs": [
    {
     "name": "stdout",
     "output_type": "stream",
     "text": [
      "Суммируем кортеж: (1, 2, 3, 4, 5, 6, 'X', 'y', 8)\n",
      "Срез кортежа, вывод с 1го элемента: (5, 6)\n"
     ]
    }
   ],
   "source": [
    "a = (1, 2, 3)\n",
    "b = (4, 5, 6)\n",
    "c = ('X', 'y', 8)\n",
    "print('Суммируем кортеж:', a + b + c)\n",
    "print('Срез кортежа, вывод с 1го элемента:', b[1:])\n"
   ]
  },
  {
   "cell_type": "code",
   "execution_count": 6,
   "id": "6f1d6b2a",
   "metadata": {
    "ExecuteTime": {
     "end_time": "2022-10-15T13:48:14.208765Z",
     "start_time": "2022-10-15T13:48:14.202764Z"
    }
   },
   "outputs": [
    {
     "name": "stdout",
     "output_type": "stream",
     "text": [
      "2\n"
     ]
    }
   ],
   "source": [
    "a = ((1,2), 3.5, 'abcd') # кортеж в кортеже\n",
    "print(a[0][1]) # вывести 0 элемент 1 кортежа и 1 элемент 2 го кортежа"
   ]
  },
  {
   "cell_type": "code",
   "execution_count": 7,
   "id": "b8941b7e",
   "metadata": {
    "ExecuteTime": {
     "end_time": "2022-10-15T14:19:00.911390Z",
     "start_time": "2022-10-15T14:19:00.902389Z"
    }
   },
   "outputs": [
    {
     "name": "stdout",
     "output_type": "stream",
     "text": [
      "Длина кортежа: 3\n"
     ]
    }
   ],
   "source": [
    "a = ((1,2), 3.5, 'abcd')\n",
    "print('Длина кортежа:', len(a))"
   ]
  },
  {
   "cell_type": "code",
   "execution_count": 11,
   "id": "6e841b3e",
   "metadata": {
    "ExecuteTime": {
     "end_time": "2022-10-15T14:25:56.566164Z",
     "start_time": "2022-10-15T14:25:56.555163Z"
    }
   },
   "outputs": [
    {
     "name": "stdout",
     "output_type": "stream",
     "text": [
      "сборка или оборачивание в кортеж: (1, 2, 'test')\n",
      "Распаковка из кортежа в переменные: 1 2 test\n"
     ]
    }
   ],
   "source": [
    "# сборка или оборачивание в кортеж\n",
    "a = 1\n",
    "b = 2\n",
    "c = 'test'\n",
    "myTuple  = a, b, c # или myTuple  = (a, b, c)\n",
    "d, e, f = myTuple\n",
    "print('сборка или оборачивание в кортеж:', myTuple)\n",
    "print('Распаковка из кортежа в переменные:', d, e, f)"
   ]
  },
  {
   "cell_type": "code",
   "execution_count": 14,
   "id": "97b2add1",
   "metadata": {
    "ExecuteTime": {
     "end_time": "2022-10-15T14:29:21.117864Z",
     "start_time": "2022-10-15T14:29:21.105863Z"
    },
    "scrolled": true
   },
   "outputs": [
    {
     "name": "stdout",
     "output_type": "stream",
     "text": [
      "1 2\n",
      "2 1\n"
     ]
    }
   ],
   "source": [
    "# поменять переменные местами\n",
    "a = 1\n",
    "b = 2\n",
    "print(a, b)\n",
    "a, b = b, a # или (a, b) = (b, a)\n",
    "print(a, b)\n"
   ]
  },
  {
   "cell_type": "markdown",
   "id": "b0a1db18",
   "metadata": {},
   "source": [
    "# Функция range и цикл for"
   ]
  },
  {
   "cell_type": "code",
   "execution_count": 27,
   "id": "c1a56e5d",
   "metadata": {
    "ExecuteTime": {
     "end_time": "2022-10-17T15:58:58.271004Z",
     "start_time": "2022-10-17T15:58:58.251004Z"
    }
   },
   "outputs": [
    {
     "name": "stdout",
     "output_type": "stream",
     "text": [
      "(0, 1, 2, 3, 4, 5, 6, 7, 8, 9, 10, 11, 12, 13, 14, 15, 16, 17, 18, 19, 20, 21, 22, 23, 24, 25, 26, 27, 28, 29, 30, 31, 32, 33, 34, 35, 36, 37, 38, 39, 40, 41, 42, 43, 44, 45, 46, 47, 48, 49, 50) \n",
      "\n",
      "(1, 2, 3, 4, 5, 6, 7, 8, 9, 10, 11, 12, 13, 14, 15, 16, 17, 18, 19, 20, 21, 22, 23, 24, 25, 26, 27, 28, 29, 30, 31, 32, 33, 34, 35, 36, 37, 38, 39, 40, 41, 42, 43, 44, 45, 46, 47, 48, 49, 50) \n",
      "\n",
      "(1, 3, 5, 7, 9, 11, 13, 15, 17, 19, 21, 23, 25, 27, 29, 31, 33, 35, 37, 39, 41, 43, 45, 47, 49) \n",
      "\n"
     ]
    }
   ],
   "source": [
    "print(tuple(range(51)),'\\n') # от 0 до 50\n",
    "print(tuple(range(1,51)),'\\n') # от 1 до 50\n",
    "print(tuple(range(1,51,2)),'\\n') # от 1 до 50, шаг 2"
   ]
  },
  {
   "cell_type": "code",
   "execution_count": 30,
   "id": "32b52704",
   "metadata": {
    "ExecuteTime": {
     "end_time": "2022-10-17T16:08:32.934530Z",
     "start_time": "2022-10-17T16:08:32.927030Z"
    }
   },
   "outputs": [
    {
     "name": "stdout",
     "output_type": "stream",
     "text": [
      "green apple\n",
      "green pear\n",
      "green apricot\n",
      "red apple\n",
      "red pear\n",
      "red apricot\n",
      "yellow apple\n",
      "yellow pear\n",
      "yellow apricot\n",
      "End loop\n"
     ]
    }
   ],
   "source": [
    "for color in ('green', 'red', 'yellow'):\n",
    "    for fruit in ('apple', 'pear', 'apricot'): # вложенный цикл, перебираем с первым элементов основного цикла все \n",
    "        print(color, fruit)                    # элементы fruit\n",
    "print('End loop')"
   ]
  },
  {
   "cell_type": "code",
   "execution_count": 46,
   "id": "6d51f2e7",
   "metadata": {
    "ExecuteTime": {
     "end_time": "2022-10-17T16:18:55.154663Z",
     "start_time": "2022-10-17T16:18:55.124663Z"
    }
   },
   "outputs": [
    {
     "data": {
      "text/plain": [
       "[10, 40, 70, 100]"
      ]
     },
     "execution_count": 46,
     "metadata": {},
     "output_type": "execute_result"
    }
   ],
   "source": [
    "[num for num in range(1,101,3) if num % 10 == 0]"
   ]
  },
  {
   "cell_type": "code",
   "execution_count": 48,
   "id": "e61a4c8c",
   "metadata": {
    "ExecuteTime": {
     "end_time": "2022-10-17T16:20:38.565825Z",
     "start_time": "2022-10-17T16:20:38.545825Z"
    }
   },
   "outputs": [
    {
     "name": "stdout",
     "output_type": "stream",
     "text": [
      "[10, 40, 70, 100]\n"
     ]
    }
   ],
   "source": [
    "res = []\n",
    "for num in range(1,101,3):\n",
    "    if num % 10 == 0:\n",
    "        res.append(num)\n",
    "print(res)"
   ]
  },
  {
   "cell_type": "code",
   "execution_count": 50,
   "id": "17e4d51f",
   "metadata": {
    "ExecuteTime": {
     "end_time": "2022-10-17T16:24:58.062234Z",
     "start_time": "2022-10-17T16:24:58.042234Z"
    }
   },
   "outputs": [
    {
     "name": "stdout",
     "output_type": "stream",
     "text": [
      "abc\n",
      "abc\n",
      "abc\n",
      "abc\n",
      "abc\n"
     ]
    }
   ],
   "source": [
    "for i in range(5):\n",
    "    print('abc')"
   ]
  },
  {
   "cell_type": "code",
   "execution_count": 56,
   "id": "8b0d1dc1",
   "metadata": {
    "ExecuteTime": {
     "end_time": "2022-10-17T16:29:22.815735Z",
     "start_time": "2022-10-17T16:29:22.795735Z"
    }
   },
   "outputs": [
    {
     "name": "stdout",
     "output_type": "stream",
     "text": [
      " 1  2  3  4  5  6  7  8  9 10 \n",
      " 2  4  6  8 10 12 14 16 18 20 \n",
      " 3  6  9 12 15 18 21 24 27 30 \n",
      " 4  8 12 16 20 24 28 32 36 40 \n",
      " 5 10 15 20 25 30 35 40 45 50 \n",
      " 6 12 18 24 30 36 42 48 54 60 \n",
      " 7 14 21 28 35 42 49 56 63 70 \n",
      " 8 16 24 32 40 48 56 64 72 80 \n",
      " 9 18 27 36 45 54 63 72 81 90 \n",
      "10 20 30 40 50 60 70 80 90 100 \n"
     ]
    }
   ],
   "source": [
    "# таблица умножения\n",
    "\n",
    "for i in range(1,11):\n",
    "    for j in range(1,11):\n",
    "        if i * j < 10:\n",
    "            print(end=' ')\n",
    "        print(i * j, end=' ')\n",
    "    print()"
   ]
  },
  {
   "cell_type": "markdown",
   "id": "e8c44b62",
   "metadata": {},
   "source": [
    "## `Задача`\n",
    "\n",
    "Вводится целое положительное число N. Выведите все числа по убыванию от N до 1 включительно через пробел."
   ]
  },
  {
   "cell_type": "code",
   "execution_count": 3,
   "id": "9690fc9a",
   "metadata": {
    "ExecuteTime": {
     "end_time": "2022-10-18T12:49:11.465930Z",
     "start_time": "2022-10-18T12:49:10.008846Z"
    }
   },
   "outputs": [
    {
     "name": "stdout",
     "output_type": "stream",
     "text": [
      "1\n",
      "1 "
     ]
    }
   ],
   "source": [
    "num = int(input())\n",
    "for i in range(num,0,-1):\n",
    "    print(i, end=' ')"
   ]
  },
  {
   "cell_type": "markdown",
   "id": "97f12c6b",
   "metadata": {},
   "source": [
    "## `Задача`\n",
    "Вводится число целое положительное число N. Напечатайте все N-значные нечетные целые положительные числа в порядке убывания. Например, если вводится число 3, то необходимо печать трёхзначные числа (состоящие из трех цифр).\n",
    "\n",
    "Подсказка: Вспомните про возведение 10 в степень"
   ]
  },
  {
   "cell_type": "code",
   "execution_count": 32,
   "id": "86cd55b2",
   "metadata": {
    "ExecuteTime": {
     "end_time": "2022-10-18T13:22:29.012183Z",
     "start_time": "2022-10-18T13:22:27.710108Z"
    }
   },
   "outputs": [
    {
     "name": "stdout",
     "output_type": "stream",
     "text": [
      "2\n",
      "99 97 95 93 91 89 87 85 83 81 79 77 75 73 71 69 67 65 63 61 59 57 55 53 51 49 47 45 43 41 39 37 35 33 31 29 27 25 23 21 19 17 15 13 11\n"
     ]
    }
   ],
   "source": [
    "# решение без for \n",
    "n = int(input())\n",
    "print(*range(10**n - 1, 10**(n - 1) - 1, -2))"
   ]
  },
  {
   "cell_type": "code",
   "execution_count": 15,
   "id": "abe50233",
   "metadata": {
    "ExecuteTime": {
     "end_time": "2022-10-18T12:59:09.599141Z",
     "start_time": "2022-10-18T12:59:09.588140Z"
    }
   },
   "outputs": [
    {
     "name": "stdout",
     "output_type": "stream",
     "text": [
      "1 2 3 4 5 6 7 8 9 10\n"
     ]
    }
   ],
   "source": [
    "print(*range(1,11))"
   ]
  },
  {
   "cell_type": "code",
   "execution_count": 13,
   "id": "f46d22bf",
   "metadata": {
    "ExecuteTime": {
     "end_time": "2022-10-18T12:58:19.766291Z",
     "start_time": "2022-10-18T12:58:18.942244Z"
    },
    "scrolled": true
   },
   "outputs": [
    {
     "name": "stdout",
     "output_type": "stream",
     "text": [
      "1\n",
      "9 7 5 3 1 "
     ]
    }
   ],
   "source": [
    "# решение через for\n",
    "n = int(input())\n",
    "for i in range(10**n - 1, 10**(n - 1) - 1, -2):\n",
    "    print(i, end=' ')"
   ]
  },
  {
   "cell_type": "markdown",
   "id": "ac2f9bf1",
   "metadata": {},
   "source": [
    "## `Задача`\n",
    "\n",
    "По введенному целому положительному числу N посчитайте N! (N факториал).\n",
    "\n",
    "Факториалом числа N называется произведение всех чисел от 1 до N."
   ]
  },
  {
   "cell_type": "code",
   "execution_count": 27,
   "id": "4da63f55",
   "metadata": {
    "ExecuteTime": {
     "end_time": "2022-10-18T13:08:22.664775Z",
     "start_time": "2022-10-18T13:08:21.345699Z"
    },
    "scrolled": true
   },
   "outputs": [
    {
     "name": "stdout",
     "output_type": "stream",
     "text": [
      "4\n",
      "4\n",
      "8\n",
      "24\n",
      "24\n"
     ]
    }
   ],
   "source": [
    "n = int(input())\n",
    "res = n\n",
    "for i in range(1, n):\n",
    "    res*= i\n",
    "print(res)"
   ]
  },
  {
   "cell_type": "markdown",
   "id": "233a8640",
   "metadata": {},
   "source": [
    "## `Задача`\n",
    "\n",
    "По введенному целому положительному N вычислите сумму 1! + 2! + 3! + ... + N!\n",
    "\n",
    "Эту задачу было бы здорово решить используя только один цикл."
   ]
  },
  {
   "cell_type": "code",
   "execution_count": 31,
   "id": "b69e7a7a",
   "metadata": {
    "ExecuteTime": {
     "end_time": "2022-10-18T13:20:25.036092Z",
     "start_time": "2022-10-18T13:20:23.965031Z"
    }
   },
   "outputs": [
    {
     "name": "stdout",
     "output_type": "stream",
     "text": [
      "3\n",
      "1 1\n",
      "2 3\n",
      "6 9\n",
      "9\n"
     ]
    }
   ],
   "source": [
    "n = int(input())\n",
    "f = 1\n",
    "s = 0\n",
    "for i in range(1,n + 1):\n",
    "    f = f * i\n",
    "    s = s + f\n",
    "print(s)"
   ]
  },
  {
   "cell_type": "code",
   "execution_count": 40,
   "id": "6c0ffa52",
   "metadata": {},
   "outputs": [
    {
     "name": "stdout",
     "output_type": "stream",
     "text": [
      "0 3 [6, 9, 12, 15, 18]\n",
      "15 18 [0, 3, 6, 9, 12]\n",
      "0 3 6 9 12 15 18\n"
     ]
    },
    {
     "data": {
      "text/plain": [
       "tuple"
      ]
     },
     "execution_count": 40,
     "metadata": {},
     "output_type": "execute_result"
    }
   ],
   "source": [
    "tup = tuple(range(0,20,3)) # заполнение кортежа\n",
    "\n",
    "a, b, *c = tup # разрез кортежа в переменные (c - край кортежа)\n",
    "print(a, b, c)\n",
    "\n",
    "*c1, a1, b1 = tup # разрез кортежа в переменные (c - начало кортежа)\n",
    "print(a1, b1, c1)\n",
    "\n",
    "print(*tup) # вывести значения кортежа\n",
    "type(tup)"
   ]
  },
  {
   "cell_type": "markdown",
   "id": "927c4bd9",
   "metadata": {},
   "source": [
    "# Списки"
   ]
  },
  {
   "cell_type": "code",
   "execution_count": 46,
   "id": "771f08b1",
   "metadata": {},
   "outputs": [
    {
     "name": "stdout",
     "output_type": "stream",
     "text": [
      "[5, 2, 3] [5, 2, 3]\n"
     ]
    }
   ],
   "source": [
    "# a и b ссылаются на один и тот же объект, меняя один список меняется и другой\n",
    "a = [1, 2, 3]\n",
    "b = a\n",
    "a[0] = 5\n",
    "print(a, b)"
   ]
  },
  {
   "cell_type": "code",
   "execution_count": 42,
   "id": "770017b4",
   "metadata": {},
   "outputs": [
    {
     "name": "stdout",
     "output_type": "stream",
     "text": [
      "[5, 2, 3] [1, 2, 3]\n"
     ]
    }
   ],
   "source": [
    "a = [1, 2, 3]\n",
    "b = a.copy() # для b создан отдельный объект и он не поменялся\n",
    "a[0] = 5\n",
    "print(a, b)"
   ]
  },
  {
   "cell_type": "code",
   "execution_count": 43,
   "id": "ddc09289",
   "metadata": {
    "scrolled": false
   },
   "outputs": [
    {
     "name": "stdout",
     "output_type": "stream",
     "text": [
      "[5, 2, 3] [1, 2, 3]\n"
     ]
    }
   ],
   "source": [
    "a = [1, 2, 3]\n",
    "b = a[:] # для b создан отдельный объект, так как взяли срез всех элементов\n",
    "a[0] = 5\n",
    "print(a, b)"
   ]
  },
  {
   "cell_type": "code",
   "execution_count": 47,
   "id": "d79799ab",
   "metadata": {},
   "outputs": [
    {
     "name": "stdout",
     "output_type": "stream",
     "text": [
      "[4, 5] [1, 2, 3]\n"
     ]
    }
   ],
   "source": [
    "a = [1, 2, 3]\n",
    "b = a\n",
    "a = [4, 5] # для a создан новый объект , поэтому b не поменялось\n",
    "print(a, b)"
   ]
  },
  {
   "cell_type": "markdown",
   "id": "69b033c8",
   "metadata": {},
   "source": [
    "# Чтение списков"
   ]
  },
  {
   "cell_type": "markdown",
   "id": "0c5e0d5c",
   "metadata": {},
   "source": [
    "- split\n",
    "- map\n",
    "- join"
   ]
  },
  {
   "cell_type": "code",
   "execution_count": 41,
   "id": "d5d0d8c1",
   "metadata": {
    "ExecuteTime": {
     "end_time": "2022-10-23T13:51:59.167106Z",
     "start_time": "2022-10-23T13:51:53.804800Z"
    },
    "scrolled": true
   },
   "outputs": [
    {
     "name": "stdout",
     "output_type": "stream",
     "text": [
      "45 77 3545 47 23\n",
      "Вывод списком:  [45, 77, 3545, 47, 23]\n",
      "Вывод развернутого списка, в виде чисел: 45 77 3545 47 23\n"
     ]
    }
   ],
   "source": [
    "num_input = list(map(int, input().split())) # функция map преобразует в тот формат, что задан на входе, здесь это int\n",
    "                                            # split разделяет по пробелам, list  - преобразуем в список\n",
    "print('Вывод списком: ', num_input)\n",
    "print('Вывод развернутого списка, в виде чисел:', *num_input) # * для вывода в виде чисел"
   ]
  },
  {
   "cell_type": "code",
   "execution_count": 46,
   "id": "716f815b",
   "metadata": {
    "ExecuteTime": {
     "end_time": "2022-10-23T14:03:20.626046Z",
     "start_time": "2022-10-23T14:03:16.240795Z"
    }
   },
   "outputs": [
    {
     "name": "stdout",
     "output_type": "stream",
     "text": [
      "45 78 36 66 55\n",
      "55, 66, 36, 78, 45\n",
      "45, 78, 36, 66, 55\n"
     ]
    }
   ],
   "source": [
    "num_input = list(map(int, input().split()))\n",
    "print(', '.join(list(map(str, num_input[::-1])))) # join разделяет элементы списка заданным разделителем\n",
    "                                                  # преобразовали обратно список в str, так как join работает с str\n",
    "print(', '.join(map(str, num_input)))             # можно не сипользовать list , так как join берет поочередно \n",
    "                                                  # элементы  из объекта map"
   ]
  },
  {
   "cell_type": "markdown",
   "id": "3dd761c8",
   "metadata": {},
   "source": [
    "### `Задача`\n",
    "Вводится строка, состоящая из слов, разделенных одним пробелом. <br>Выведите все слова по одному в строке (пробелы выводить не нужно).\n",
    "\n",
    "Эта задача удобно решается с помощью методов split и join. <br> Напомним, что перевод строки обозначается как \\n внутри строковой константы."
   ]
  },
  {
   "cell_type": "code",
   "execution_count": 60,
   "id": "44d787cf",
   "metadata": {
    "ExecuteTime": {
     "end_time": "2022-10-23T14:17:33.267653Z",
     "start_time": "2022-10-23T14:17:31.630648Z"
    },
    "scrolled": true
   },
   "outputs": [
    {
     "name": "stdout",
     "output_type": "stream",
     "text": [
      "First second third\n",
      "First\n",
      "second\n",
      "third\n"
     ]
    }
   ],
   "source": [
    "num_input = list(input().split())\n",
    "for i in num_input:\n",
    "    print(i)"
   ]
  },
  {
   "cell_type": "code",
   "execution_count": 62,
   "id": "05e8acc2",
   "metadata": {
    "ExecuteTime": {
     "end_time": "2022-10-23T14:19:47.574887Z",
     "start_time": "2022-10-23T14:19:43.752879Z"
    },
    "scrolled": true
   },
   "outputs": [
    {
     "name": "stdout",
     "output_type": "stream",
     "text": [
      "456 6456 64\n",
      "456\n",
      "6456\n",
      "64\n"
     ]
    },
    {
     "data": {
      "text/plain": [
       "[None, None, None]"
      ]
     },
     "execution_count": 62,
     "metadata": {},
     "output_type": "execute_result"
    }
   ],
   "source": [
    "num_input = list(input().split())\n",
    "[print(i) for i in num_input]"
   ]
  },
  {
   "cell_type": "code",
   "execution_count": 66,
   "id": "1d17a3be",
   "metadata": {
    "ExecuteTime": {
     "end_time": "2022-10-23T14:29:06.035981Z",
     "start_time": "2022-10-23T14:28:43.800949Z"
    }
   },
   "outputs": [
    {
     "name": "stdout",
     "output_type": "stream",
     "text": [
      "join two j one start\n",
      "join\n",
      "two\n",
      "j\n",
      "one\n",
      "start\n"
     ]
    },
    {
     "data": {
      "text/plain": [
       "[None, None, None, None, None]"
      ]
     },
     "execution_count": 66,
     "metadata": {},
     "output_type": "execute_result"
    }
   ],
   "source": [
    "[print(line) for line in input().split()]"
   ]
  },
  {
   "cell_type": "markdown",
   "id": "2a878259",
   "metadata": {},
   "source": [
    "### `Задача`\n",
    "В первой строке вводится строка-разделитель.\n",
    "\n",
    "Во второй строке вводится текст, состоящий из слов, разделенных пробелом.\n",
    "\n",
    "Выведите слова из текста, разделяя их строкой-разделителем."
   ]
  },
  {
   "cell_type": "code",
   "execution_count": 73,
   "id": "3def4fe7",
   "metadata": {
    "ExecuteTime": {
     "end_time": "2022-10-23T14:38:30.410368Z",
     "start_time": "2022-10-23T14:38:23.597348Z"
    }
   },
   "outputs": [
    {
     "name": "stdout",
     "output_type": "stream",
     "text": [
      "123\n",
      "A B Cd Efg\n",
      "A123B123Cd123Efg\n",
      "['A', 'B', 'Cd', 'Efg']\n"
     ]
    }
   ],
   "source": [
    "sep = input()\n",
    "text = input().split()\n",
    "print(sep.join(text))"
   ]
  },
  {
   "cell_type": "markdown",
   "id": "bcc8dbd2",
   "metadata": {},
   "source": [
    "### `Задача`\n",
    "Выведите все элементы списка с четными индексами (то есть A[0], A[2], A[4], ...). Постарайтесь не использовать if, а придумать правильные параметры для range."
   ]
  },
  {
   "cell_type": "code",
   "execution_count": 89,
   "id": "1a30b25f",
   "metadata": {
    "ExecuteTime": {
     "end_time": "2022-10-23T14:51:06.347991Z",
     "start_time": "2022-10-23T14:51:03.515986Z"
    },
    "scrolled": true
   },
   "outputs": [
    {
     "name": "stdout",
     "output_type": "stream",
     "text": [
      "1 2 3 4 5\n",
      "1 3 5 "
     ]
    }
   ],
   "source": [
    "# 1 вариант\n",
    "num = input().split()\n",
    "\n",
    "for line in num:\n",
    "    if int(line) % 2 != 0:\n",
    "        print(line, end=' ')"
   ]
  },
  {
   "cell_type": "code",
   "execution_count": 94,
   "id": "7f7076b1",
   "metadata": {
    "ExecuteTime": {
     "end_time": "2022-10-23T14:56:23.804871Z",
     "start_time": "2022-10-23T14:56:20.200861Z"
    }
   },
   "outputs": [
    {
     "name": "stdout",
     "output_type": "stream",
     "text": [
      "1 2 3 4 5\n",
      "1 3 5\n"
     ]
    }
   ],
   "source": [
    "# 2 вариант\n",
    "print(*\" \".join(input()).split()[::2])"
   ]
  },
  {
   "cell_type": "code",
   "execution_count": 96,
   "id": "22beec87",
   "metadata": {
    "ExecuteTime": {
     "end_time": "2022-10-23T15:00:39.136128Z",
     "start_time": "2022-10-23T15:00:36.384123Z"
    },
    "scrolled": true
   },
   "outputs": [
    {
     "name": "stdout",
     "output_type": "stream",
     "text": [
      "1 2 3 4 5\n",
      "1 3 5 "
     ]
    }
   ],
   "source": [
    "# прошедшее решение\n",
    "num = input().split()\n",
    "for line in range(0, len(num),2):\n",
    "    print(num[line], end=' ')"
   ]
  },
  {
   "cell_type": "markdown",
   "id": "86e60441",
   "metadata": {},
   "source": [
    "## `Задача`\n",
    "Выведите все четные элементы списка. "
   ]
  },
  {
   "cell_type": "code",
   "execution_count": 5,
   "id": "6fbe6c21",
   "metadata": {
    "scrolled": true
   },
   "outputs": [
    {
     "name": "stdout",
     "output_type": "stream",
     "text": [
      "68 60 -32 12 68 34 -92 -24 90 34 21 66 90 32 67 56 80 5 -68 94 -51 -44 3 -26 -65 -41 -53 30 -97 74 70 59 81 -16 -94 -28 -96 84 76 -48 -31 27 80 36 57 -67 -61 -87 2 61 -32 -55 34 41 70 -11 -78 -82 -8 11 -48 31 87 30 -50 -86 -21 6 -99 67 -69 -79 41 -54 -10 17 83 -31 -17 -58 17 -78 -64 -7 81 -12 2 -82 -75 -67 88 46 -5 -62 -50 78 -23 71 -90 39\n",
      "68 60 -32 12 68 34 -92 -24 90 34 66 90 32 56 80 -68 94 -44 -26 30 74 70 -16 -94 -28 -96 84 76 -48 80 36 2 -32 34 70 -78 -82 -8 -48 30 -50 -86 6 -54 -10 -58 -78 -64 -12 2 -82 88 46 -62 -50 78 -90 "
     ]
    }
   ],
   "source": [
    "num = input().split()\n",
    "for search in num:\n",
    "    if int(search) % 2 == 0:\n",
    "        print(search, end=' ')"
   ]
  },
  {
   "cell_type": "markdown",
   "id": "284639d3",
   "metadata": {},
   "source": [
    "## `Задача`\n",
    "Дан список чисел. Выведите значение наибольшего элемента в списке, а затем индекс этого элемента в списке. Если наибольших элементов несколько, выведите индекс первого из них."
   ]
  },
  {
   "cell_type": "code",
   "execution_count": 12,
   "id": "acf7622a",
   "metadata": {},
   "outputs": [
    {
     "name": "stdout",
     "output_type": "stream",
     "text": [
      "12 45 67 9 0 4\n",
      "67 2\n"
     ]
    }
   ],
   "source": [
    "# s = [int(i) for i in input().split()]\n",
    "s = []\n",
    "for i in input().split():\n",
    "    s.append(int(i))\n",
    "\n",
    "max = s[0]\n",
    "ind = 0\n",
    "\n",
    "\n",
    "for i in range(1,len(s)):\n",
    "    if (s[i] > max):\n",
    "        max = s[i]\n",
    "        ind = i\n",
    "print (max, ind)\n"
   ]
  },
  {
   "cell_type": "markdown",
   "id": "21ff7ffc",
   "metadata": {},
   "source": [
    "## `Задача`\n",
    "Дан список чисел. Выведите все элементы списка, которые больше предыдущего элемента."
   ]
  },
  {
   "cell_type": "code",
   "execution_count": 79,
   "id": "97ada587",
   "metadata": {},
   "outputs": [
    {
     "name": "stdout",
     "output_type": "stream",
     "text": [
      "345354\n",
      "\n"
     ]
    }
   ],
   "source": [
    "num = input().split()\n",
    "start = num[0]\n",
    "num_list = []\n",
    "\n",
    "for i in range(len(num)):\n",
    "    if (i + 1 < len(num)):\n",
    "        if num[i + 1] < start:\n",
    "                num_list.append(num[i])\n",
    "                start = num[i]\n",
    "print(*num_list)"
   ]
  },
  {
   "cell_type": "code",
   "execution_count": 95,
   "id": "f04ec7d3",
   "metadata": {},
   "outputs": [
    {
     "name": "stdout",
     "output_type": "stream",
     "text": [
      "5 1 5 1 5\n",
      "5 5\n"
     ]
    }
   ],
   "source": [
    "#num = input().split()\n",
    "#num = list(map(int, input().split()))\n",
    "#num = [int(i) for i in input()]\n",
    "num = []\n",
    "for i in input().split():\n",
    "    num.append(int(i))\n",
    "num_list = []\n",
    "\n",
    "for i in range(len(num)-1):\n",
    "    if num[i] < num[i+1]:\n",
    "        num_list.append(num[i+1])\n",
    "\n",
    "print(*num_list)"
   ]
  }
 ],
 "metadata": {
  "kernelspec": {
   "display_name": "Python 3 (ipykernel)",
   "language": "python",
   "name": "python3"
  },
  "language_info": {
   "codemirror_mode": {
    "name": "ipython",
    "version": 3
   },
   "file_extension": ".py",
   "mimetype": "text/x-python",
   "name": "python",
   "nbconvert_exporter": "python",
   "pygments_lexer": "ipython3",
   "version": "3.8.10"
  }
 },
 "nbformat": 4,
 "nbformat_minor": 5
}
