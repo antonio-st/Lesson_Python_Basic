{
 "cells": [
  {
   "cell_type": "markdown",
   "id": "1780e86e",
   "metadata": {},
   "source": [
    "### `Вещественные числа`"
   ]
  },
  {
   "cell_type": "code",
   "execution_count": 3,
   "id": "5a9978e8",
   "metadata": {},
   "outputs": [
    {
     "name": "stdout",
     "output_type": "stream",
     "text": [
      "3.0 \n",
      " 0.0 \n",
      " 3.0\n"
     ]
    }
   ],
   "source": [
    "numA = float(input())\n",
    "numB = float(input())\n",
    "print (numA // numB,'\\n', numA % numB,'\\n', numA / numB )"
   ]
  },
  {
   "cell_type": "code",
   "execution_count": 21,
   "id": "ac64abc3",
   "metadata": {},
   "outputs": [
    {
     "name": "stdout",
     "output_type": "stream",
     "text": [
      "no 2.4000000000000004\n"
     ]
    }
   ],
   "source": [
    "# сумма вещественных чисел не всегда точно = \n",
    "if 1.1 + 1.3 == 2.4:\n",
    "    print('yes', 1.1 + 1.3)\n",
    "else:\n",
    "    print('no', 1.1 + 1.3)"
   ]
  },
  {
   "cell_type": "code",
   "execution_count": 48,
   "id": "d822031b",
   "metadata": {},
   "outputs": [
    {
     "name": "stdout",
     "output_type": "stream",
     "text": [
      "yes 5.551115123125783e-17\n"
     ]
    }
   ],
   "source": [
    "# взять числа по модулю и найти ошибку\n",
    "if abs(0.1 + 0.2 - 0.3) < 0.000001:\n",
    "    print('yes', abs(0.1 + 0.2 - 0.3)) \n",
    "else:\n",
    "    print('no', abs(0.1 + 0.2 - 0.3))"
   ]
  },
  {
   "cell_type": "code",
   "execution_count": 1,
   "id": "4d49e933",
   "metadata": {},
   "outputs": [
    {
     "name": "stdout",
     "output_type": "stream",
     "text": [
      "yes 2.0\n"
     ]
    }
   ],
   "source": [
    "# целые числа как вещественные\n",
    "if 1.0 + 1.0 == 2.0:\n",
    "    print('yes', 1.0 + 1.0)\n",
    "else:\n",
    "    print('no', 1.0 + 1.0)"
   ]
  },
  {
   "cell_type": "markdown",
   "id": "d7ff838c",
   "metadata": {},
   "source": [
    "### `Задача`\n",
    "В этой задаче вам нужно написать программу, которая считывает два вещественных числа и выведет их сумму (подвохов в ней нет). Числа задаются по одному в строке.\n",
    "\n",
    "Напомним, что для преобразования строки в вещественное число используется функция float"
   ]
  },
  {
   "cell_type": "code",
   "execution_count": 2,
   "id": "c8105e1c",
   "metadata": {},
   "outputs": [
    {
     "name": "stdout",
     "output_type": "stream",
     "text": [
      "3.0\n"
     ]
    }
   ],
   "source": [
    "numA = float(input())\n",
    "numB = float(input())\n",
    "print(numA + numB)"
   ]
  },
  {
   "cell_type": "markdown",
   "id": "5c0cadc9",
   "metadata": {},
   "source": [
    "### `Задача`\n",
    "Еще одна задача без подвоха :)\n",
    "\n",
    "Вам необходимо написать программу, которая считает вещественные числа A и B и выведет результат деления A на B.\n",
    "\n",
    "Напомним, что вещественное деление делается с помощью операции / (в отличие от деления нацело, которое делается с помощью операции //)."
   ]
  },
  {
   "cell_type": "code",
   "execution_count": 3,
   "id": "c6fec66f",
   "metadata": {},
   "outputs": [
    {
     "name": "stdout",
     "output_type": "stream",
     "text": [
      "0.5555555555555556\n"
     ]
    }
   ],
   "source": [
    "numA = float(input())\n",
    "numB = float(input())\n",
    "print(numA / numB)"
   ]
  },
  {
   "cell_type": "markdown",
   "id": "07b96b94",
   "metadata": {},
   "source": [
    "### Округление вещественных чисел"
   ]
  },
  {
   "cell_type": "code",
   "execution_count": 2,
   "id": "fb6b92c1",
   "metadata": {
    "ExecuteTime": {
     "end_time": "2022-10-10T14:08:16.100265Z",
     "start_time": "2022-10-10T14:08:12.876255Z"
    }
   },
   "outputs": [
    {
     "name": "stdout",
     "output_type": "stream",
     "text": [
      "5.5\n",
      "5\n"
     ]
    }
   ],
   "source": [
    "x  = float(input())\n",
    "print(int(x))"
   ]
  },
  {
   "cell_type": "code",
   "execution_count": 6,
   "id": "d6de5879",
   "metadata": {
    "ExecuteTime": {
     "end_time": "2022-10-10T14:09:24.961376Z",
     "start_time": "2022-10-10T14:09:24.941376Z"
    }
   },
   "outputs": [
    {
     "name": "stdout",
     "output_type": "stream",
     "text": [
      "2\n",
      "2\n"
     ]
    }
   ],
   "source": [
    "# в python округление при *.5 принято при нечетных числах в большую сторону , при четных в меньшую \n",
    "x,y = 1.5, 2.5\n",
    "print(round(x))\n",
    "print(round(y))"
   ]
  },
  {
   "cell_type": "code",
   "execution_count": 8,
   "id": "06364a80",
   "metadata": {
    "ExecuteTime": {
     "end_time": "2022-10-10T14:37:17.151342Z",
     "start_time": "2022-10-10T14:37:14.021337Z"
    },
    "scrolled": true
   },
   "outputs": [
    {
     "name": "stdout",
     "output_type": "stream",
     "text": [
      "-5.5\n",
      "-6\n"
     ]
    }
   ],
   "source": [
    "# математическая бибилиотека\n",
    "import math\n",
    "\n",
    "x = float(input())\n",
    "print(math.floor(x))  # округление вниз, особенность для отрицательных чисел"
   ]
  },
  {
   "cell_type": "code",
   "execution_count": 14,
   "id": "7bfc6851",
   "metadata": {
    "ExecuteTime": {
     "end_time": "2022-10-10T14:43:21.775795Z",
     "start_time": "2022-10-10T14:43:18.543610Z"
    }
   },
   "outputs": [
    {
     "name": "stdout",
     "output_type": "stream",
     "text": [
      "-5.8\n",
      "-5\n"
     ]
    }
   ],
   "source": [
    "from math import ceil # можно импортировать отдельнцю функцию из библиотеки\n",
    "\n",
    "x = float(input())\n",
    "print(ceil(x))  # округление вверх, особенность для отрицательных чисел"
   ]
  },
  {
   "cell_type": "code",
   "execution_count": 19,
   "id": "739e3c96",
   "metadata": {
    "ExecuteTime": {
     "end_time": "2022-10-10T15:00:57.571144Z",
     "start_time": "2022-10-10T15:00:55.832044Z"
    }
   },
   "outputs": [
    {
     "name": "stdout",
     "output_type": "stream",
     "text": [
      "10\n",
      "3.1622776601683795\n",
      "3.1622776601683795\n"
     ]
    }
   ],
   "source": [
    "# корень квадратный\n",
    "\n",
    "x = float(input())\n",
    "print(x ** 0.5)\n",
    "\n",
    "# или\n",
    "\n",
    "print(math.sqrt(x))"
   ]
  },
  {
   "cell_type": "markdown",
   "id": "a50b25df",
   "metadata": {},
   "source": [
    "### `Задача`\n",
    "Дано положительное вещественное число X. Выведите его дробную часть."
   ]
  },
  {
   "cell_type": "code",
   "execution_count": 53,
   "id": "1f9fe511",
   "metadata": {
    "ExecuteTime": {
     "end_time": "2022-10-10T15:31:00.092554Z",
     "start_time": "2022-10-10T15:30:57.770549Z"
    }
   },
   "outputs": [
    {
     "name": "stdout",
     "output_type": "stream",
     "text": [
      "17.9\n",
      "0.9\n",
      "0.9\n"
     ]
    }
   ],
   "source": [
    "x = float(input())\n",
    "print(round(x - int(x),2))\n",
    "print(round(x % 1,2))"
   ]
  },
  {
   "cell_type": "code",
   "execution_count": 7,
   "id": "91fe6dc1",
   "metadata": {
    "ExecuteTime": {
     "end_time": "2022-10-10T15:21:43.364488Z",
     "start_time": "2022-10-10T15:21:41.394485Z"
    }
   },
   "outputs": [
    {
     "name": "stdout",
     "output_type": "stream",
     "text": [
      "0.9\n",
      "0.9\n"
     ]
    }
   ],
   "source": [
    "x = float(input())\n",
    "if x > 1:\n",
    "    print(round(x - int(x),2))\n",
    "elif x <= 1:\n",
    "    print(x)"
   ]
  },
  {
   "cell_type": "code",
   "execution_count": 44,
   "id": "de5529ab",
   "metadata": {
    "ExecuteTime": {
     "end_time": "2022-10-10T15:19:16.737258Z",
     "start_time": "2022-10-10T15:19:13.993250Z"
    }
   },
   "outputs": [
    {
     "name": "stdout",
     "output_type": "stream",
     "text": [
      "17.9\n",
      "0.9\n"
     ]
    }
   ],
   "source": [
    "from math import *\n",
    "\n",
    "x = float(input())\n",
    "if x > 1:\n",
    "    a = floor(x)\n",
    "    b = x - a\n",
    "    print(round(b, 2))\n",
    "else:\n",
    "    print(x)"
   ]
  },
  {
   "cell_type": "code",
   "execution_count": 11,
   "id": "c06b6b31",
   "metadata": {
    "ExecuteTime": {
     "end_time": "2022-10-11T16:23:47.935201Z",
     "start_time": "2022-10-11T16:23:46.655200Z"
    }
   },
   "outputs": [
    {
     "name": "stdout",
     "output_type": "stream",
     "text": [
      "17\n",
      "0\n"
     ]
    }
   ],
   "source": [
    "# это решение прошло !!!\n",
    "num = float(input())\n",
    "remDiv = num - int(num)\n",
    "if remDiv == 0:\n",
    "    print(0)\n",
    "else:\n",
    "    # вычисляем число знаков для округления\n",
    "    s = str(num)\n",
    "    s1 = str(int(num))\n",
    "    l = len(s) - len(s1) - 1\n",
    "    print(round(remDiv, l))\n"
   ]
  },
  {
   "cell_type": "code",
   "execution_count": 14,
   "id": "982fe00a",
   "metadata": {
    "ExecuteTime": {
     "end_time": "2022-10-11T16:27:17.096591Z",
     "start_time": "2022-10-11T16:27:12.720578Z"
    }
   },
   "outputs": [
    {
     "name": "stdout",
     "output_type": "stream",
     "text": [
      "17.9\n",
      "0.9\n",
      "0.8999999999999986\n"
     ]
    }
   ],
   "source": [
    "# это решение тоже прошло !!!\n",
    "x = float(input())\n",
    "if x % 1 == 0:\n",
    "    print(0)\n",
    "else:\n",
    "    print(round(x % 1, 14))\n",
    "    print(x % 1)\n"
   ]
  },
  {
   "cell_type": "markdown",
   "id": "e967c202",
   "metadata": {},
   "source": [
    "### `Задача`\n",
    "По российский правилам числа округляются до ближайшего целого числа, а если дробная часть числа равна 0.5, то число округляется вверх.\n",
    "Дано неотрицательное вещественное число X, округлите его по этим правилам.\n",
    "Обратите внимание, что функция round не подходит для этой задачи!"
   ]
  },
  {
   "cell_type": "code",
   "execution_count": 72,
   "id": "728096c6",
   "metadata": {
    "ExecuteTime": {
     "end_time": "2022-10-10T15:44:26.320445Z",
     "start_time": "2022-10-10T15:44:24.416440Z"
    }
   },
   "outputs": [
    {
     "name": "stdout",
     "output_type": "stream",
     "text": [
      "1.4\n",
      "1\n"
     ]
    }
   ],
   "source": [
    "import math\n",
    "x = float(input())\n",
    "r = x % 1\n",
    "if r >= 0.5:\n",
    "    print(math.ceil(x))\n",
    "else:\n",
    "    print(math.floor(x))"
   ]
  },
  {
   "cell_type": "markdown",
   "id": "578e7a86",
   "metadata": {},
   "source": [
    "### `Задача`\n",
    "Процентная ставка по вкладу составляет P процентов годовых, которые прибавляются к сумме вклада. Вклад составляет X рублей Y копеек. Определите размер вклада через год. \n",
    "\n",
    "Программа получает на вход целые числа P, X, Y.\n",
    "\n",
    "Программа должна вывести два числа: величину вклада через год в рублях и копейках. Дробная часть копеек отбрасывается."
   ]
  },
  {
   "cell_type": "code",
   "execution_count": 42,
   "id": "89ff55e0",
   "metadata": {},
   "outputs": [
    {
     "name": "stdout",
     "output_type": "stream",
     "text": [
      "13\n",
      "179\n",
      "0\n",
      "202 27\n"
     ]
    }
   ],
   "source": [
    "P = int(input())\n",
    "X = int(input())\n",
    "Y = int(input())\n",
    "today = X * 100 + Y\n",
    "proc = today + (today*P/100)\n",
    "print(int(proc // 100), int(proc % 100))"
   ]
  },
  {
   "cell_type": "code",
   "execution_count": 34,
   "id": "f728b755",
   "metadata": {},
   "outputs": [
    {
     "name": "stdout",
     "output_type": "stream",
     "text": [
      "13\n",
      "179\n",
      "0\n",
      "202 27\n"
     ]
    }
   ],
   "source": [
    "p = int(input()) # proc/g\n",
    "x = int(input()) # rub\n",
    "y = int(input()) # kop\n",
    " \n",
    "total = x*100+y             # tot kop\n",
    "proc = total+(total*p/100)  # + proc/g\n",
    "r = int(proc // 100)        # result rub\n",
    "k = int(proc % 100)         # result kop\n",
    " \n",
    "print(r, k)"
   ]
  },
  {
   "cell_type": "markdown",
   "id": "f2337c0e",
   "metadata": {},
   "source": [
    "### `Срезы строк`"
   ]
  },
  {
   "cell_type": "code",
   "execution_count": 35,
   "id": "34f078a3",
   "metadata": {
    "ExecuteTime": {
     "end_time": "2022-10-12T05:54:33.169082Z",
     "start_time": "2022-10-12T05:54:30.657075Z"
    },
    "scrolled": true
   },
   "outputs": [
    {
     "name": "stdout",
     "output_type": "stream",
     "text": [
      "Anton\n",
      "Первый символ:  A или так: A\n",
      "Последний символ:  n или так: n\n",
      "Длина строки:  5\n"
     ]
    }
   ],
   "source": [
    "s  = input()\n",
    "print('Первый символ: ', s[-len(s)] ,'или так:', s[0])\n",
    "print('Последний символ: ', s[-1], 'или так:', s[len(s)-1])\n",
    "print('Длина строки: ', len(s))"
   ]
  },
  {
   "cell_type": "code",
   "execution_count": 50,
   "id": "9d054a3b",
   "metadata": {
    "ExecuteTime": {
     "end_time": "2022-10-12T06:14:12.544612Z",
     "start_time": "2022-10-12T06:14:08.790603Z"
    }
   },
   "outputs": [
    {
     "name": "stdout",
     "output_type": "stream",
     "text": [
      "Введите строку# \n",
      "Anton\n",
      "Первые 2 символа# An или так# An\n",
      "Строка без последнего символа# Anto\n",
      "Строка без первого символа# nton\n",
      "Четные символы в строке# Atn проще так# Atn\n",
      "Перевернутая строка# notnA\n",
      "Обратный вывод с конца с предпоследнего элемента до 0 не включительно# otn\n"
     ]
    }
   ],
   "source": [
    "#Срезы\n",
    "\n",
    "s  = input('Введите строку: \\n')\n",
    "print('Первые 2 символа:', s[0:2],'или так:', s[:2])\n",
    "print('Строка без последнего символа:', s[:-1])\n",
    "print('Строка без первого символа:', s[1:])\n",
    "print('Четные символы в строке:', s[0:len(s):2], 'проще так:', s[::2])\n",
    "print('Перевернутая строка:', s[::-1])\n",
    "print('Обратный вывод с конца с предпоследнего элемента до 0 не включительно:', s[-2:0:-1])\n"
   ]
  },
  {
   "cell_type": "code",
   "execution_count": 39,
   "id": "af828b3e",
   "metadata": {
    "ExecuteTime": {
     "end_time": "2022-10-12T06:00:43.077455Z",
     "start_time": "2022-10-12T06:00:40.565450Z"
    }
   },
   "outputs": [
    {
     "name": "stdout",
     "output_type": "stream",
     "text": [
      "Anton\n",
      "notnA\n",
      "notnA\n",
      "notnA\n"
     ]
    }
   ],
   "source": [
    "# вывести строку наоборот\n",
    "\n",
    "s  = input()\n",
    "i = len(s) - 1\n",
    "while i >= 0:\n",
    "    print(s[i], end='')\n",
    "    i -= 1\n",
    "print()\n",
    "\n",
    "# или с помощью списка\n",
    "\n",
    "sList = list(s)\n",
    "sList = sList[::-1]\n",
    "print(''.join(sList))\n",
    "\n",
    "# еще проще\n",
    "print(s[::-1])"
   ]
  },
  {
   "cell_type": "code",
   "execution_count": 28,
   "id": "cef1b546",
   "metadata": {
    "ExecuteTime": {
     "end_time": "2022-10-12T05:48:27.120562Z",
     "start_time": "2022-10-12T05:48:12.699487Z"
    },
    "scrolled": true
   },
   "outputs": [
    {
     "name": "stdout",
     "output_type": "stream",
     "text": [
      "Богданов\n",
      "Бгао\n"
     ]
    }
   ],
   "source": [
    "# вывести каждый четный элемент строки\n",
    "\n",
    "s  = input()\n",
    "i = 0\n",
    "while i < len(s):\n",
    "    print(s[i], end='')\n",
    "    i += 2\n",
    "print()"
   ]
  },
  {
   "cell_type": "markdown",
   "id": "7490a1a1",
   "metadata": {},
   "source": [
    "### `Задача`\n",
    "\n",
    "<b>Дана строка. </b>\n",
    "<br> `Сначала выведите третий символ этой строки (считая, что нумерация символов начинается с 1).`\n",
    "<br> `Во второй строке выведите предпоследний символ этой строки.`\n",
    "<br> `В третьей строке выведите первые пять символов этой строки.`\n",
    "<br> `В четвертой строке выведите всю строку, кроме последних двух символов.`\n",
    "<br> `В пятой строке выведите все символы с четными индексами (считая, что индексация начинается с 0).`\n",
    "<br> `В шестой строке выведите все символы с нечетными индексами (считая, что индексация начинается с 0).`\n",
    "<br> `В седьмой строке выведите все символы в обратном порядке.`\n",
    "<br> `В восьмой строке выведите все символы строки через один в обратном порядке, начиная с последнего.`\n",
    "<br> `В девятой строке выведите длину данной строки. `"
   ]
  },
  {
   "cell_type": "code",
   "execution_count": 87,
   "id": "88c681a2",
   "metadata": {
    "ExecuteTime": {
     "end_time": "2022-10-12T06:43:55.191785Z",
     "start_time": "2022-10-12T06:43:52.819780Z"
    }
   },
   "outputs": [
    {
     "name": "stdout",
     "output_type": "stream",
     "text": [
      "Hello\n",
      "l\n",
      "l\n",
      "Hello\n",
      "Hel\n",
      "Hlo\n",
      "el\n",
      "olleH\n",
      "olH\n",
      "5\n"
     ]
    }
   ],
   "source": [
    "s  = input()\n",
    "print(s[2])\n",
    "print(s[-2])\n",
    "print(s[:5])\n",
    "print(s[:-2])\n",
    "print(s[::2])\n",
    "print(s[1::2])\n",
    "print(s[::-1])\n",
    "print(s[::-2])\n",
    "print(len(s))"
   ]
  },
  {
   "cell_type": "markdown",
   "id": "96e22a2f",
   "metadata": {},
   "source": [
    "### `Поиск подстрок в строке`"
   ]
  },
  {
   "cell_type": "code",
   "execution_count": 92,
   "id": "0469cd30",
   "metadata": {
    "ExecuteTime": {
     "end_time": "2022-10-12T08:45:49.926286Z",
     "start_time": "2022-10-12T08:45:46.183072Z"
    }
   },
   "outputs": [
    {
     "name": "stdout",
     "output_type": "stream",
     "text": [
      "Антон\n",
      "ж\n",
      "Введенный символ встречается в строке:  False\n"
     ]
    }
   ],
   "source": [
    "s = input()\n",
    "subs = input()\n",
    "print ('Введенный символ встречается в строке: ', subs in s)"
   ]
  },
  {
   "cell_type": "code",
   "execution_count": 99,
   "id": "304ef94f",
   "metadata": {
    "ExecuteTime": {
     "end_time": "2022-10-12T09:07:56.005132Z",
     "start_time": "2022-10-12T09:07:50.764833Z"
    }
   },
   "outputs": [
    {
     "name": "stdout",
     "output_type": "stream",
     "text": [
      "Anton\n",
      "def\n",
      "n\n"
     ]
    }
   ],
   "source": [
    "# вывести строку после определенного символа\n",
    "s = input()\n",
    "subs = input()\n",
    "pos = s.find(subs)\n",
    "print(s[pos:])"
   ]
  },
  {
   "cell_type": "code",
   "execution_count": 98,
   "id": "8537259e",
   "metadata": {
    "ExecuteTime": {
     "end_time": "2022-10-12T09:01:45.017914Z",
     "start_time": "2022-10-12T09:01:37.731498Z"
    }
   },
   "outputs": [
    {
     "name": "stdout",
     "output_type": "stream",
     "text": [
      "12 september\n",
      "3\n",
      "Количество вхождений подстроки в строку: 0\n"
     ]
    }
   ],
   "source": [
    "s = input()\n",
    "subs = input()\n",
    "cnt = s.count(subs)\n",
    "print('Количество вхождений подстроки в строку:', cnt)"
   ]
  },
  {
   "cell_type": "code",
   "execution_count": 126,
   "id": "29adee7d",
   "metadata": {
    "ExecuteTime": {
     "end_time": "2022-10-14T13:48:50.767758Z",
     "start_time": "2022-10-14T13:48:42.055742Z"
    }
   },
   "outputs": [
    {
     "name": "stdout",
     "output_type": "stream",
     "text": [
      "ababab\n",
      "a\n",
      "0 2 4 "
     ]
    }
   ],
   "source": [
    "# найти места вхождений подстроки в строку\n",
    "s = input()\n",
    "subs = input()\n",
    "pos = s.find(subs)\n",
    "sumpos = 0\n",
    "while pos != -1:\n",
    "    sumpos += pos\n",
    "    print(sumpos, end=' ')\n",
    "    sumpos += len(subs)\n",
    "    s = s[pos + len(subs):]\n",
    "    pos = s.find(subs)"
   ]
  },
  {
   "cell_type": "markdown",
   "id": "87520f48",
   "metadata": {},
   "source": [
    "### `Задача`\n",
    "Вася интересуется тем, что о нем пишут в интернете. Поэтому он хочет проверить, упоминается ли подстрока Vasya (именно с большой буквы) в строке.\n",
    "\n",
    "Вводится строка. Выведите True если в ней есть хотя бы одна подстрока Vasya и False в противном случае."
   ]
  },
  {
   "cell_type": "markdown",
   "id": "320c7333",
   "metadata": {
    "ExecuteTime": {
     "end_time": "2022-10-12T09:33:15.275030Z",
     "start_time": "2022-10-12T09:33:10.259743Z"
    }
   },
   "source": [
    "s = input()\n",
    "subs = 'Vasya'\n",
    "print(subs in s)"
   ]
  },
  {
   "cell_type": "markdown",
   "id": "7619106f",
   "metadata": {},
   "source": [
    "### `Задача`\n",
    "Дана строка. Если в этом числе буква f встречается только один раз, выведите её индекс. Если она встречается два и более раз, выведите индекс её первого и последнего появления через пробел. Если буква f в данной строке не встречается, ничего не выводите.\n",
    "\n",
    "Для решения задачи могут быть полезны методы:\n",
    "\n",
    "string.find(substring) - возвращает позицию самого левого вхождения подстроки substring в строку string или -1, если подстрока не найдена\n",
    "\n",
    "string.rfind(substring) - возвращает позицию самого правого вхождения подстроки substring в строку string или -1, если подстрока не найдена"
   ]
  },
  {
   "cell_type": "code",
   "execution_count": 125,
   "id": "2397b1f1",
   "metadata": {
    "ExecuteTime": {
     "end_time": "2022-10-14T13:48:34.759728Z",
     "start_time": "2022-10-14T13:48:31.225718Z"
    }
   },
   "outputs": [
    {
     "name": "stdout",
     "output_type": "stream",
     "text": [
      "ababab\n"
     ]
    }
   ],
   "source": [
    "s = input()\n",
    "pos = s.find('f')\n",
    "poslast = s.rfind('f')\n",
    "if pos != -1 and s.count('f') > 1:\n",
    "    print(pos,poslast)\n",
    "elif pos != -1 and s.count('f') == 1:\n",
    "    print(pos)"
   ]
  },
  {
   "cell_type": "markdown",
   "id": "5527de63",
   "metadata": {},
   "source": [
    "### `Задача`\n",
    "Дана строка, состоящая из слов, разделенных пробелами. Определите, сколько в ней слов.\n",
    "Гарантируется, что в строке не встречается несколько пробелов подряд.\n",
    "\n",
    "Подсказка: у строк есть полезный метод count, а количество слов напрямую связано с количеством пробелов, их разделяющих"
   ]
  },
  {
   "cell_type": "code",
   "execution_count": 124,
   "id": "67459352",
   "metadata": {
    "ExecuteTime": {
     "end_time": "2022-10-12T09:52:37.179487Z",
     "start_time": "2022-10-12T09:52:34.652342Z"
    }
   },
   "outputs": [
    {
     "name": "stdout",
     "output_type": "stream",
     "text": [
      "One two three four five\n",
      "5\n"
     ]
    }
   ],
   "source": [
    "s = input()\n",
    "cntspc = s.count(' ') + 1 \n",
    "print(cntspc)"
   ]
  },
  {
   "cell_type": "markdown",
   "id": "ec80e696",
   "metadata": {},
   "source": [
    "### ` Поиск и замена подстрок`"
   ]
  },
  {
   "cell_type": "code",
   "execution_count": 145,
   "id": "82dddf4b",
   "metadata": {
    "ExecuteTime": {
     "end_time": "2022-10-14T14:10:35.237806Z",
     "start_time": "2022-10-14T14:10:32.383794Z"
    }
   },
   "outputs": [
    {
     "name": "stdout",
     "output_type": "stream",
     "text": [
      "formatformatf\n",
      "f\n",
      "f 0 1\n",
      "6\n",
      "f 6 1\n",
      "12\n",
      "f 12 1\n",
      "-1\n",
      "[0, 6, 12]\n"
     ]
    }
   ],
   "source": [
    "# найти места вхождений подстроки в строку (упрощенное решение find , параметр start)\n",
    "s = input()\n",
    "subs = input()\n",
    "pos = s.find(subs) # первое вхождение подстроки в строку\n",
    "listnum = []\n",
    "while pos != -1:\n",
    "    listnum.append(pos) # записываем в список первое значение pos, а потом в цикле все найденные\n",
    "    #print(subs, pos, len(subs))\n",
    "    pos = s.find(subs, pos + len(subs)) # ищем за найденным символом, параметр start для find, поэтому + len(subs)\n",
    "    #print(pos)\n",
    "print(listnum)"
   ]
  },
  {
   "cell_type": "code",
   "execution_count": 149,
   "id": "91297a07",
   "metadata": {
    "ExecuteTime": {
     "end_time": "2022-10-14T14:24:55.610970Z",
     "start_time": "2022-10-14T14:24:51.028963Z"
    }
   },
   "outputs": [
    {
     "name": "stdout",
     "output_type": "stream",
     "text": [
      "Is good Vasya programming\n",
      "Vasya\n",
      "Is good Petya programming\n"
     ]
    }
   ],
   "source": [
    "# замена одной подстроки на другую\n",
    "s = input()\n",
    "subs = input()\n",
    "pos = s.find(subs)\n",
    "start = s[:pos] # вырезаем фразу до заменяемого\n",
    "finish = s[pos + len(subs):]  # вырезаем фразу после заменяемого\n",
    "news = start + 'Petya' + finish # формируем новую строку с замененным словом\n",
    "print(news)"
   ]
  },
  {
   "cell_type": "code",
   "execution_count": 153,
   "id": "eeba8320",
   "metadata": {
    "ExecuteTime": {
     "end_time": "2022-10-14T14:38:57.004147Z",
     "start_time": "2022-10-14T14:38:36.052111Z"
    }
   },
   "outputs": [
    {
     "name": "stdout",
     "output_type": "stream",
     "text": [
      "Строка: abxabxabx\n",
      "Какую посдстроку найти : d\n",
      "На что меняем подстроку: 5\n",
      "Сколько раз меняем: 2\n",
      "abxabxabx\n"
     ]
    }
   ],
   "source": [
    "# метод для строк replace (замена подстроки в строке)\n",
    "\n",
    "s = input('Строка: ')\n",
    "subs = input('Какую посдстроку найти : ')\n",
    "replsub = input('На что меняем подстроку: ')\n",
    "replnum = int(input('Сколько раз меняем: '))\n",
    "news = s.replace(subs, replsub, replnum)\n",
    "print(news)"
   ]
  },
  {
   "cell_type": "markdown",
   "id": "b5a28c8c",
   "metadata": {},
   "source": [
    "### `Задача`\n",
    "В введенной строке необходимо заменить все буквы A на B, а все буквы C - на D. \n",
    "\n",
    "Заменять нужно только заглавные буквы."
   ]
  },
  {
   "cell_type": "code",
   "execution_count": 155,
   "id": "835f2263",
   "metadata": {
    "ExecuteTime": {
     "end_time": "2022-10-14T14:43:58.626229Z",
     "start_time": "2022-10-14T14:43:47.692208Z"
    }
   },
   "outputs": [
    {
     "name": "stdout",
     "output_type": "stream",
     "text": [
      "AAAAAAAAAAACCCCCCccccaaaa\n",
      "BBBBBBBBBBBDDDDDDccccaaaa\n"
     ]
    }
   ],
   "source": [
    "s = input()\n",
    "news = s.replace('A', 'B')\n",
    "news = news.replace('C', 'D')\n",
    "print(news)"
   ]
  },
  {
   "cell_type": "markdown",
   "id": "a151fc7e",
   "metadata": {},
   "source": [
    "### `Задача`\n",
    "В введенной строке необходимо заменить все буквы A на B, а все буквы B - на A. \n",
    "\n",
    "Заменять нужно только заглавные буквы."
   ]
  },
  {
   "cell_type": "code",
   "execution_count": 159,
   "id": "e5d9ce09",
   "metadata": {
    "ExecuteTime": {
     "end_time": "2022-10-14T14:53:11.662923Z",
     "start_time": "2022-10-14T14:53:10.570920Z"
    }
   },
   "outputs": [
    {
     "name": "stdout",
     "output_type": "stream",
     "text": [
      "ABC\n",
      "BAC\n"
     ]
    }
   ],
   "source": [
    "s = input()\n",
    "s = s.replace('A', 'X') # меняем A на X , чтобы не зареть ее\n",
    "s = s.replace('B', 'A') # меняем B на A по второму условию\n",
    "s = s.replace('X', 'B') # меняем X (который был A) на B по первому условию \n",
    "print(s)"
   ]
  },
  {
   "cell_type": "markdown",
   "id": "9de1e6a6",
   "metadata": {},
   "source": [
    "### `Полезные методы строк`"
   ]
  },
  {
   "cell_type": "code",
   "execution_count": 5,
   "id": "a459a9bd",
   "metadata": {},
   "outputs": [
    {
     "name": "stdout",
     "output_type": "stream",
     "text": [
      "Мирослав Великоросович\n",
      "True\n"
     ]
    }
   ],
   "source": [
    "# проверка заканчивается ли строка на определенное окончание\n",
    "\n",
    "s = input()\n",
    "flag = s.endswith('ич')\n",
    "print(flag)"
   ]
  },
  {
   "cell_type": "code",
   "execution_count": 12,
   "id": "275053ec",
   "metadata": {},
   "outputs": [
    {
     "name": "stdout",
     "output_type": "stream",
     "text": [
      "АБв ABC1 123F ,/;\n",
      "\n",
      " Строчные:  абв abc1 123f ,/; \n",
      " Заглавные:  АБВ ABC1 123F ,/;\n"
     ]
    }
   ],
   "source": [
    "# перевести все буквы в строчные или заглавные\n",
    "s = input()\n",
    "slower = s.lower()\n",
    "supper = s.upper()\n",
    "print('\\n', 'Строчные: ',slower,'\\n','Заглавные: ', supper)"
   ]
  },
  {
   "cell_type": "code",
   "execution_count": 19,
   "id": "6b52a6ef",
   "metadata": {},
   "outputs": [
    {
     "name": "stdout",
     "output_type": "stream",
     "text": [
      "                   jkkljls kmn,mcvn,x test     test2      \n",
      "\n",
      " Очищено от пробелов в начале и конце строки, слева, справа :\n",
      " jkkljls kmn,mcvn,x test     test2 \n",
      " jkkljls kmn,mcvn,x test     test2       \n",
      "                    jkkljls kmn,mcvn,x test     test2\n"
     ]
    }
   ],
   "source": [
    "# очистка от пробелов\n",
    "s = input()\n",
    "sclr = s.strip()\n",
    "sclrl = s.lstrip()\n",
    "sclrr = s.rstrip()\n",
    "print('\\n',f'Очищено от пробелов в начале и конце строки, слева, справа :\\n {sclr} \\n {sclrl} \\n {sclrr}')"
   ]
  },
  {
   "cell_type": "code",
   "execution_count": 20,
   "id": "4304fd45",
   "metadata": {},
   "outputs": [
    {
     "name": "stdout",
     "output_type": "stream",
     "text": [
      "12345\n",
      "True\n"
     ]
    }
   ],
   "source": [
    "# состоит ли строка только из цифр, без букв и пробелов\n",
    "s = input()\n",
    "flag = s.isdigit()\n",
    "print(flag)"
   ]
  }
 ],
 "metadata": {
  "kernelspec": {
   "display_name": "Python 3 (ipykernel)",
   "language": "python",
   "name": "python3"
  },
  "language_info": {
   "codemirror_mode": {
    "name": "ipython",
    "version": 3
   },
   "file_extension": ".py",
   "mimetype": "text/x-python",
   "name": "python",
   "nbconvert_exporter": "python",
   "pygments_lexer": "ipython3",
   "version": "3.8.10"
  },
  "vscode": {
   "interpreter": {
    "hash": "916dbcbb3f70747c44a77c7bcd40155683ae19c65e1c03b4aa3499c5328201f1"
   }
  }
 },
 "nbformat": 4,
 "nbformat_minor": 5
}
